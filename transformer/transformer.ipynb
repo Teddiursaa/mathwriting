{
 "cells": [
  {
   "cell_type": "code",
   "execution_count": 2,
   "id": "02715997",
   "metadata": {},
   "outputs": [],
   "source": [
    "import datasets\n",
    "\n",
    "data = datasets.load_from_disk(\"all_characters\")"
   ]
  },
  {
   "cell_type": "code",
   "execution_count": 14,
   "id": "c6db99ea",
   "metadata": {},
   "outputs": [
    {
     "name": "stderr",
     "output_type": "stream",
     "text": [
      "Saving the dataset (1/1 shards): 100%|██████████| 5938/5938 [00:00<00:00, 122796.84 examples/s]\n"
     ]
    }
   ],
   "source": [
    "import numpy as np\n",
    "\n",
    "data_dict = {}\n",
    "\n",
    "for i, image in enumerate(data['image']):\n",
    "    data_dict[i] = np.array(image).flatten().tolist()\n",
    "\n",
    "datasets.Dataset.save_to_disk(datasets.Dataset.from_dict({'embeddings': data_dict.values()}), \"./all_characters_flattened\")"
   ]
  }
 ],
 "metadata": {
  "kernelspec": {
   "display_name": "conda-env",
   "language": "python",
   "name": "python3"
  },
  "language_info": {
   "codemirror_mode": {
    "name": "ipython",
    "version": 3
   },
   "file_extension": ".py",
   "mimetype": "text/x-python",
   "name": "python",
   "nbconvert_exporter": "python",
   "pygments_lexer": "ipython3",
   "version": "3.12.9"
  }
 },
 "nbformat": 4,
 "nbformat_minor": 5
}
