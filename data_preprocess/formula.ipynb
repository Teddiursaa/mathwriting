{
 "cells": [
  {
   "cell_type": "markdown",
   "id": "e2b73d05",
   "metadata": {},
   "source": [
    "### Read formulas"
   ]
  },
  {
   "cell_type": "code",
   "execution_count": 9,
   "id": "8a915a72",
   "metadata": {},
   "outputs": [],
   "source": [
    "formulas = open('.\\\\..\\\\dataset\\\\im2latex_formulas.lst', 'r').readlines()"
   ]
  },
  {
   "cell_type": "markdown",
   "id": "c1cd6bab",
   "metadata": {},
   "source": [
    "### Get labels"
   ]
  },
  {
   "cell_type": "code",
   "execution_count": 2,
   "id": "edfe61dd",
   "metadata": {},
   "outputs": [],
   "source": [
    "label_set = set()\n",
    "\n",
    "for formula in formulas:\n",
    "    formula = formula.strip()\n",
    "    cur = ''\n",
    "    for c in formula:\n",
    "        if 'a' <= c <= 'z' or 'A' <= c <= 'Z':\n",
    "            if cur.startswith('\\\\'):\n",
    "                cur += c\n",
    "            else:\n",
    "                assert cur == ''\n",
    "                label_set.add(c)\n",
    "        else:\n",
    "            if cur != '\\\\' and cur != '':\n",
    "                label_set.add(cur)\n",
    "                cur = ''\n",
    "            elif cur == '\\\\':\n",
    "                label_set.add(cur + c)\n",
    "                cur = ''\n",
    "                continue\n",
    "            if c == ' ':\n",
    "                continue\n",
    "            if c == '\\\\':\n",
    "                cur = c\n",
    "            else:\n",
    "                label_set.add(c)"
   ]
  },
  {
   "cell_type": "code",
   "execution_count": null,
   "id": "7c8e6886",
   "metadata": {},
   "outputs": [],
   "source": [
    "import datasets\n",
    "\n",
    "data = [(i, label) for i, label in enumerate(label_set)]\n",
    "\n",
    "datasets.Dataset.save_to_disk(\n",
    "    datasets.Dataset.from_dict({'label': enumerate(label_set)}),\n",
    "    './labels'\n",
    ")"
   ]
  },
  {
   "cell_type": "markdown",
   "id": "391aa10c",
   "metadata": {},
   "source": [
    "### Process output"
   ]
  },
  {
   "cell_type": "code",
   "execution_count": 4,
   "id": "0154e2e3",
   "metadata": {},
   "outputs": [],
   "source": [
    "label_dict = {}\n",
    "for i, label in data:\n",
    "    label_dict[label] = i"
   ]
  },
  {
   "cell_type": "code",
   "execution_count": 7,
   "id": "d9f6b4ee",
   "metadata": {},
   "outputs": [],
   "source": [
    "output = []\n",
    "\n",
    "for i, formula in enumerate(formulas):\n",
    "    formula = formula.strip()\n",
    "    tmp = []\n",
    "    cur = ''\n",
    "    for c in formula:\n",
    "        if 'a' <= c <= 'z' or 'A' <= c <= 'Z':\n",
    "            if cur.startswith('\\\\'):\n",
    "                cur += c\n",
    "            else:\n",
    "                assert cur == ''\n",
    "                tmp.append(c)\n",
    "        else:\n",
    "            if cur != '\\\\' and cur != '':\n",
    "                tmp.append(cur)\n",
    "                cur = ''\n",
    "            elif cur == '\\\\':\n",
    "                tmp.append(cur + c)\n",
    "                cur = ''\n",
    "                continue\n",
    "            if c == ' ':\n",
    "                continue\n",
    "            if c == '\\\\':\n",
    "                cur = c\n",
    "            else:\n",
    "                tmp.append(c)\n",
    "    output.append(tmp)"
   ]
  },
  {
   "cell_type": "code",
   "execution_count": 8,
   "id": "b1f6a631",
   "metadata": {},
   "outputs": [
    {
     "data": {
      "application/vnd.jupyter.widget-view+json": {
       "model_id": "fb23b3910d464a68a1b4b8a9ef4290d6",
       "version_major": 2,
       "version_minor": 0
      },
      "text/plain": [
       "Saving the dataset (0/1 shards):   0%|          | 0/104564 [00:00<?, ? examples/s]"
      ]
     },
     "metadata": {},
     "output_type": "display_data"
    }
   ],
   "source": [
    "datasets.Dataset.save_to_disk(\n",
    "    datasets.Dataset.from_dict({'output': output}),\n",
    "    './output'\n",
    ")"
   ]
  }
 ],
 "metadata": {
  "kernelspec": {
   "display_name": "conda-env",
   "language": "python",
   "name": "python3"
  },
  "language_info": {
   "codemirror_mode": {
    "name": "ipython",
    "version": 3
   },
   "file_extension": ".py",
   "mimetype": "text/x-python",
   "name": "python",
   "nbconvert_exporter": "python",
   "pygments_lexer": "ipython3",
   "version": "3.12.9"
  }
 },
 "nbformat": 4,
 "nbformat_minor": 5
}
