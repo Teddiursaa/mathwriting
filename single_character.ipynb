{
  "cells": [
    {
      "cell_type": "markdown",
      "metadata": {
        "id": "INFgOJYvdag8"
      },
      "source": [
        "# Imports"
      ]
    },
    {
      "cell_type": "code",
      "execution_count": 1,
      "metadata": {
        "collapsed": true,
        "id": "wXyGYhnr1yY9"
      },
      "outputs": [],
      "source": [
        "%%capture\n",
        "%pip install datasets\n",
        "%pip install torch torchvision torchaudio\n",
        "%pip install scikit-learn\n",
        "%pip install pandas\n",
        "%pip install numpy\n",
        "%pip install scikit-image[data]\n",
        "%pip install matplotlib"
      ]
    },
    {
      "cell_type": "code",
      "execution_count": 2,
      "metadata": {
        "id": "rr_j6VxcjbLV"
      },
      "outputs": [
        {
          "name": "stderr",
          "output_type": "stream",
          "text": [
            "/users/eleves-b/2024/duc-anh.nguyen/AI/mathwriting/.venv/lib64/python3.9/site-packages/tqdm/auto.py:21: TqdmWarning: IProgress not found. Please update jupyter and ipywidgets. See https://ipywidgets.readthedocs.io/en/stable/user_install.html\n",
            "  from .autonotebook import tqdm as notebook_tqdm\n"
          ]
        }
      ],
      "source": [
        "import random\n",
        "\n",
        "import  torch\n",
        "import torch.nn as nn\n",
        "import torch.optim as optim\n",
        "from torch.utils.data import DataLoader, TensorDataset\n",
        "import skimage.transform as sk\n",
        "\n",
        "import pandas as pd\n",
        "import numpy as np\n",
        "\n",
        "import matplotlib.pyplot as plt\n",
        "\n",
        "import datasets"
      ]
    },
    {
      "cell_type": "markdown",
      "metadata": {
        "id": "tSs50AphjRUG"
      },
      "source": [
        "# Prepare dataset"
      ]
    },
    {
      "cell_type": "markdown",
      "metadata": {
        "id": "0U4DA_YN27aE"
      },
      "source": [
        "## Save dataset"
      ]
    },
    {
      "cell_type": "code",
      "execution_count": null,
      "metadata": {
        "collapsed": true,
        "id": "iRut7YRQBG5J"
      },
      "outputs": [],
      "source": [
        "# !unzip images.zip -d images\n",
        "# # load datasets\n",
        "\n",
        "# np.set_printoptions(threshold=np.inf)\n",
        "\n",
        "# pf = pandas.read_csv('dataset.csv')\n",
        "\n",
        "# train = []\n",
        "# test = []\n",
        "# label_dict = dict()\n",
        "\n",
        "# for i, row in pf.iterrows():\n",
        "#     im = iio.imread('images/' + row['image'])\n",
        "#     tmp = np.ndarray(shape=(len(im), len(im[0])), dtype=np.float64)\n",
        "#     for i in range(len(im)):\n",
        "#         for j in range(len(im[i])):\n",
        "#             s = 0\n",
        "#             for c in im[i][j]:\n",
        "#                 s += int(c)\n",
        "#             tmp[i][j] = (1 if s < 255 else 0)\n",
        "#     input = torch.tensor(tmp, dtype=torch.float64)\n",
        "#     label = row['label']\n",
        "#     if label not in label_dict:\n",
        "#         label_dict[label] = len(label_dict)\n",
        "#         label = label_dict[label]\n",
        "#         test.append((input, label))\n",
        "#     else:\n",
        "#         label = label_dict[label]\n",
        "#         train.append((input, label))\n",
        "# for i in range(len(train)):\n",
        "#     train[i] = {'input': train[i][0], 'label': train[i][1]}\n",
        "\n",
        "# for i in range(len(test)):\n",
        "#     test[i] = {'input': test[i][0], 'label': test[i][1]}\n",
        "\n",
        "# datasets.DatasetDict({\n",
        "#     'train': datasets.Dataset.from_list(train),\n",
        "#     'test': datasets.Dataset.from_list(test)\n",
        "# }).save_to_disk('dataset')\n",
        "\n",
        "# !zip -r dataset.zip dataset"
      ]
    },
    {
      "cell_type": "code",
      "execution_count": null,
      "metadata": {
        "id": "EGPtz0eJ66RJ"
      },
      "outputs": [],
      "source": [
        "# pf = pandas.read_csv('dataset.csv')\n",
        "# label_set = set()\n",
        "# label_list = []\n",
        "\n",
        "# for lb in pf.label:\n",
        "#     if lb not in label_set:\n",
        "#         label_set.add(lb)\n",
        "#         label_list.append(lb)\n",
        "\n",
        "# pandas.DataFrame(label_list).to_csv('labels.csv')"
      ]
    },
    {
      "cell_type": "markdown",
      "metadata": {
        "id": "ViY6T7eUe_GX"
      },
      "source": [
        "# Load dataset"
      ]
    },
    {
      "cell_type": "code",
      "execution_count": 3,
      "metadata": {
        "colab": {
          "base_uri": "https://localhost:8080/"
        },
        "collapsed": true,
        "id": "X28_vdiicZOY",
        "outputId": "ffad0681-cf35-4080-fd7e-a33825ea1d90"
      },
      "outputs": [],
      "source": [
        "ddata = pd.read_csv(\"dataset.csv\")\n",
        "labels = pd.read_csv(\"labels.csv\")\n",
        "ds = datasets.load_from_disk('dataset')"
      ]
    },
    {
      "cell_type": "markdown",
      "metadata": {
        "id": "ScBxP6bk3M4E"
      },
      "source": [
        "# Resize images"
      ]
    },
    {
      "cell_type": "code",
      "execution_count": 4,
      "metadata": {
        "colab": {
          "base_uri": "https://localhost:8080/",
          "height": 559
        },
        "id": "bYeVemTDwYxk",
        "outputId": "4272fd14-4c8e-4cd0-c151-50e0854654cb"
      },
      "outputs": [
        {
          "name": "stdout",
          "output_type": "stream",
          "text": [
            "[[0. 0. 0. ... 0. 0. 0.]\n",
            " [0. 0. 0. ... 0. 0. 0.]\n",
            " [0. 0. 0. ... 0. 0. 0.]\n",
            " ...\n",
            " [0. 0. 0. ... 0. 0. 0.]\n",
            " [0. 0. 0. ... 0. 0. 0.]\n",
            " [0. 0. 0. ... 0. 0. 0.]]\n",
            "\n"
          ]
        },
        {
          "data": {
            "image/png": "[encoded data removed]",
            "text/plain": [
              "<Figure size 640x480 with 2 Axes>"
            ]
          },
          "metadata": {},
          "output_type": "display_data"
        }
      ],
      "source": [
        "n = 0\n",
        "grid = np.array(ds['train'][n]['input'])\n",
        "# Target size\n",
        "new_shape = (40, 40)\n",
        "\n",
        "# Resize with anti-aliasing\n",
        "resized_grid = sk.resize(grid, new_shape, mode='reflect', anti_aliasing=True)\n",
        "\n",
        "fig, axs = plt.subplots(1, 2)\n",
        "axs[0].imshow(grid)\n",
        "axs[1].imshow(resized_grid > 0.25)\n",
        "# plt.show()\n",
        "\n",
        "print(resized_grid)\n",
        "\n",
        "print(np.array(''))"
      ]
    },
    {
      "cell_type": "code",
      "execution_count": 17,
      "metadata": {
        "collapsed": true,
        "id": "IgZ4WPspyxHw"
      },
      "outputs": [],
      "source": [
        "image_size = 40\n",
        "\n",
        "new_shape = (image_size, image_size)\n",
        "\n",
        "def scale_input(data):\n",
        "    input, output = data['input'], data['label']\n",
        "    input = sk.resize(np.array(input), new_shape, mode='reflect', anti_aliasing=True)\n",
        "    return {'input': input, 'label': output}\n",
        "\n",
        "train = [scale_input(ds['train'][i]) for i in range(len(ds['train']))]\n",
        "test = [scale_input(ds['test'][i]) for i in range(len(ds['test']))]"
      ]
    },
    {
      "cell_type": "code",
      "execution_count": 18,
      "metadata": {
        "colab": {
          "base_uri": "https://localhost:8080/"
        },
        "collapsed": true,
        "id": "R1u7LuwP980e",
        "outputId": "0f1b9205-be25-4ec3-f538-b2090804fbf8"
      },
      "outputs": [
        {
          "name": "stdout",
          "output_type": "stream",
          "text": [
            "[[0. 0. 0. ... 0. 0. 0.]\n",
            " [0. 0. 0. ... 0. 0. 0.]\n",
            " [0. 0. 0. ... 0. 0. 0.]\n",
            " ...\n",
            " [0. 0. 0. ... 0. 0. 0.]\n",
            " [0. 0. 0. ... 0. 0. 0.]\n",
            " [0. 0. 0. ... 0. 0. 0.]]\n",
            "                                        \n",
            "                                        \n",
            "                                        \n",
            "                                        \n",
            "                                        \n",
            "        o@@o                            \n",
            "        o@@o                            \n",
            "        o@@                             \n",
            "        o@@                             \n",
            "        o@@                             \n",
            "        o@@                             \n",
            "        o@@                             \n",
            "        o@@o                            \n",
            "        o@@.                            \n",
            "        o@@                             \n",
            "        o@@                             \n",
            "        o@@                             \n",
            "        o@@                             \n",
            "        o@@o                            \n",
            "        o@@o                            \n",
            "        o@@o                            \n",
            "        o@@o                            \n",
            "        o@@o                            \n",
            "        o@@o                            \n",
            "        o@@o     .@@@@@@@@.             \n",
            "        o@@o @@@@@@@@@@@@@@@@@O         \n",
            "        o@@O@@@@oooooooooooo@@@O        \n",
            "        o@@@@@               O@@@       \n",
            "        o@@@@                 .@@@      \n",
            "        o@@@@@O                O@@      \n",
            "      .@@@@@OOo                o@@      \n",
            "      @@@@O                   .@@@      \n",
            "       @@@                   O@@@       \n",
            "       .@@@@@@@@@@ooooooooo@@@@O        \n",
            "        o@@@@@@@@@@@@@@@@@@@@@          \n",
            "                     o@                 \n",
            "                                        \n",
            "                                        \n",
            "                                        \n",
            "                                        \n"
          ]
        }
      ],
      "source": [
        "def print_image(data, out = None):\n",
        "    for i, r in enumerate(data):\n",
        "        for x in r:\n",
        "            if x < 0.2: print(' ', end='', file=out)\n",
        "            elif x < 0.4: print('.', end='', file=out)\n",
        "            elif x < 0.6: print('o', end='', file=out)\n",
        "            elif x < 0.8: print('O', end='', file=out)\n",
        "            else: print('@', end='', file=out)\n",
        "        print('', file=out)\n",
        "\n",
        "print(test[0]['input'])\n",
        "print_image(test[0]['input'])"
      ]
    },
    {
      "cell_type": "markdown",
      "metadata": {
        "id": "IfglJ7lJjVws"
      },
      "source": [
        "# Train"
      ]
    },
    {
      "cell_type": "code",
      "execution_count": 19,
      "metadata": {
        "colab": {
          "base_uri": "https://localhost:8080/"
        },
        "id": "64CbBRuVIMWv",
        "outputId": "745d5c6f-5bc5-4473-eada-937929f48031"
      },
      "outputs": [
        {
          "name": "stdout",
          "output_type": "stream",
          "text": [
            "cuda:0\n"
          ]
        }
      ],
      "source": [
        "device = torch.device(\"cuda:0\" if torch.cuda.is_available() else \"cpu\")\n",
        "print(device)"
      ]
    },
    {
      "cell_type": "code",
      "execution_count": null,
      "metadata": {
        "colab": {
          "base_uri": "https://localhost:8080/"
        },
        "id": "9MA58OYDjf07",
        "outputId": "26c55572-310c-4b5e-9642-e7c911c86858"
      },
      "outputs": [
        {
          "name": "stdout",
          "output_type": "stream",
          "text": [
            "Epoch [1/10], Step [1/101], Loss: 5.4365\n",
            "Epoch [1/10], Step [101/101], Loss: 2.0393\n",
            "Epoch 1: Average Loss: 3.5264, Accuracy: 0.2576\n",
            "Epoch [2/10], Step [1/101], Loss: 2.9657\n",
            "Epoch [2/10], Step [101/101], Loss: 0.0241\n",
            "Epoch 2: Average Loss: 2.2369, Accuracy: 0.4541\n",
            "Epoch [3/10], Step [1/101], Loss: 1.3866\n",
            "Epoch [3/10], Step [101/101], Loss: 3.6134\n",
            "Epoch 3: Average Loss: 1.9393, Accuracy: 0.5328\n",
            "Epoch [4/10], Step [1/101], Loss: 1.1303\n",
            "Epoch [4/10], Step [101/101], Loss: 0.1034\n",
            "Epoch 4: Average Loss: 1.6108, Accuracy: 0.5721\n",
            "Epoch [5/10], Step [1/101], Loss: 0.8078\n",
            "Epoch [5/10], Step [101/101], Loss: 2.8742\n",
            "Epoch 5: Average Loss: 1.7147, Accuracy: 0.5502\n",
            "Epoch [6/10], Step [1/101], Loss: 0.5055\n",
            "Epoch [6/10], Step [101/101], Loss: 0.0134\n",
            "Epoch 6: Average Loss: 1.7522, Accuracy: 0.5590\n",
            "Epoch [7/10], Step [1/101], Loss: 0.5328\n",
            "Epoch [7/10], Step [101/101], Loss: 1.4224\n",
            "Epoch 7: Average Loss: 1.7829, Accuracy: 0.5764\n",
            "Epoch [8/10], Step [1/101], Loss: 0.1610\n",
            "Epoch [8/10], Step [101/101], Loss: 0.0015\n",
            "Epoch 8: Average Loss: 2.0003, Accuracy: 0.5895\n",
            "Epoch [9/10], Step [1/101], Loss: 0.1932\n",
            "Epoch [9/10], Step [101/101], Loss: 0.0208\n",
            "Epoch 9: Average Loss: 1.9328, Accuracy: 0.5764\n",
            "Epoch [10/10], Step [1/101], Loss: 0.1436\n",
            "Epoch [10/10], Step [101/101], Loss: 0.1551\n",
            "Epoch 10: Average Loss: 2.0360, Accuracy: 0.6070\n"
          ]
        }
      ],
      "source": [
        "input_channels = 1  # 1 for grayscale, 3 for RGB\n",
        "hidden_size = 512\n",
        "output_size = 229\n",
        "learning_rate = 0.001\n",
        "batch_size = 64\n",
        "num_epochs = 10\n",
        "\n",
        "# Define the CNN model\n",
        "class CNN(nn.Module):\n",
        "    def __init__(self, input_channels, hidden_size, output_size):\n",
        "        super(CNN, self).__init__()\n",
        "\n",
        "        # Convolutional layers\n",
        "        self.conv1 = nn.Conv2d(input_channels, 32, kernel_size=3, stride=1, padding=1)  # (40x40) -> (40x40)\n",
        "        self.conv2 = nn.Conv2d(32, 64, kernel_size=3, stride=1, padding=1)  # (40x40) -> (40x40)\n",
        "        self.pool = nn.MaxPool2d(kernel_size=2, stride=2)  # (40x40) -> (20x20)\n",
        "        self.conv3 = nn.Conv2d(64, 128, kernel_size=3, stride=1, padding=1)  # (20x20) -> (20x20)\n",
        "        self.pool2 = nn.MaxPool2d(kernel_size=2, stride=2)  # (20x20) -> (10x10)\n",
        "\n",
        "        # Fully connected layers\n",
        "        self.fc1 = nn.Linear(32 * 10 * 10, hidden_size)  # Flattened size\n",
        "        self.relu = nn.ReLU()\n",
        "        self.fc2 = nn.Linear(hidden_size, output_size)\n",
        "\n",
        "    def forward(self, x):\n",
        "        x = self.pool(torch.relu(self.conv1(x)))  # Conv1 -> ReLU -> Pool\n",
        "        x = self.pool(torch.relu(self.conv2(x)))  # Conv2 -> ReLU -> Pool\n",
        "        x = torch.relu(self.conv3(x))  # Conv3 -> ReLU\n",
        "        x = self.pool2(x)  # Pooling after Conv3\n",
        "        x = x.view(x.size(0), -1)  # Flatten\n",
        "        x = torch.relu(self.fc1(x))  # Fully connected\n",
        "        x = self.fc2(x)  # Output layer\n",
        "        return x\n",
        "\n",
        "# Initialize model\n",
        "model = CNN(input_channels, hidden_size, output_size).to(device)\n",
        "\n",
        "# Loss and optimizer\n",
        "criterion = nn.CrossEntropyLoss()\n",
        "optimizer = optim.Adam(model.parameters(), lr=learning_rate)\n",
        "\n",
        "# Prepare dataset (reshape to 40x40 for CNN)\n",
        "X_train = torch.stack([torch.tensor(data['input'], dtype=torch.float32).reshape(1, image_size, image_size) for data in train]).to(device)\n",
        "y_train = torch.tensor([data['label'] for data in train], dtype=torch.long).to(device)\n",
        "\n",
        "train_dataset = TensorDataset(X_train, y_train)\n",
        "train_loader = DataLoader(train_dataset, batch_size=batch_size, shuffle=True)\n",
        "\n",
        "X_test = torch.stack([torch.tensor(data['input'], dtype=torch.float32).reshape(1, image_size, image_size) for data in test]).to(device)\n",
        "y_test = torch.tensor([data['label'] for data in test], dtype=torch.long).to(device)\n",
        "\n",
        "out = open('output.txt', 'w')\n",
        "\n",
        "# Training loop\n",
        "for epoch in range(num_epochs):\n",
        "    model.train()\n",
        "    for batch_idx, (inputs, targets) in enumerate(train_loader):\n",
        "        outputs = model(inputs)\n",
        "        loss = criterion(outputs, targets)\n",
        "\n",
        "        optimizer.zero_grad()\n",
        "        loss.backward()\n",
        "        optimizer.step()\n",
        "\n",
        "        if batch_idx % 100 == 0:\n",
        "            print(f\"Epoch [{epoch+1}/{num_epochs}], Step [{batch_idx+1}/{len(train_loader)}], Loss: {loss.item():.4f}\")\n",
        "\n",
        "    # Validation\n",
        "    model.eval()\n",
        "    with torch.no_grad():\n",
        "        correct = 0\n",
        "        total = len(test)\n",
        "        sum_loss = 0\n",
        "\n",
        "        for i in range(total):\n",
        "            output = model(X_test[i].unsqueeze(0))  # Add batch dimension\n",
        "            predicted = torch.argmax(output, dim=1).item()\n",
        "\n",
        "            if predicted == y_test[i].item():\n",
        "                correct += 1\n",
        "            else:\n",
        "                print('```', file=out)\n",
        "                print_image(test[i]['input'], out)\n",
        "                print('```', file=out)\n",
        "                print(f\"Predicted: {predicted} - ${labels.get('0').values[predicted]}{{}}{{}}{{}}{{}}$\", file=out)\n",
        "                print(f\"True: {y_test[i].item()} - ${labels.get('0').values[y_test[i].item()]}{{}}{{}}{{}}{{}}$\", file=out)\n",
        "                print('', file=out)\n",
        "\n",
        "            sum_loss += criterion(output, y_test[i].unsqueeze(0)).item()\n",
        "\n",
        "        avg_loss = sum_loss / total\n",
        "        accuracy = correct / total\n",
        "\n",
        "        print(f\"Epoch {epoch+1}: Average Loss: {avg_loss:.4f}, Accuracy: {accuracy:.4f}\")\n",
        "        print(f\"Epoch {epoch+1}: Average Loss: {avg_loss:.4f}, Accuracy: {accuracy:.4f}\", file=out)"
      ]
    }
  ],
  "metadata": {
    "accelerator": "GPU",
    "colab": {
      "collapsed_sections": [
        "tSs50AphjRUG",
        "0U4DA_YN27aE",
        "n4iWKVvH3ULl",
        "ViY6T7eUe_GX"
      ],
      "gpuType": "T4",
      "provenance": []
    },
    "kernelspec": {
      "display_name": ".venv",
      "language": "python",
      "name": "python3"
    },
    "language_info": {
      "codemirror_mode": {
        "name": "ipython",
        "version": 3
      },
      "file_extension": ".py",
      "mimetype": "text/x-python",
      "name": "python",
      "nbconvert_exporter": "python",
      "pygments_lexer": "ipython3",
      "version": "3.9.21"
    }
  },
  "nbformat": 4,
  "nbformat_minor": 0
}
