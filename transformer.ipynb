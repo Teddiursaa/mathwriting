{
  "cells": [
    {
      "cell_type": "code",
      "execution_count": null,
      "id": "KexkTNajYB5m",
      "metadata": {
        "colab": {
          "base_uri": "https://localhost:8080/"
        },
        "id": "KexkTNajYB5m",
        "outputId": "9aedfb6c-032d-44b4-b9d8-71506b237e99"
      },
      "outputs": [],
      "source": [
        "dataset_path = './datasets/'"
      ]
    },
    {
      "cell_type": "code",
      "execution_count": null,
      "id": "da374fb4",
      "metadata": {
        "id": "da374fb4"
      },
      "outputs": [],
      "source": [
        "import datasets\n",
        "\n",
        "embeddings = datasets.load_from_disk(dataset_path + \"embeddings\")['embeddings']\n",
        "labels = datasets.load_from_disk(dataset_path + \"labels\")['labels']\n",
        "\n",
        "train = datasets.load_from_disk(dataset_path + \"train_dataset\")\n",
        "test = datasets.load_from_disk(dataset_path + \"test_dataset\")\n",
        "validate = datasets.load_from_disk(dataset_path + \"validate_dataset\")"
      ]
    },
    {
      "cell_type": "markdown",
      "id": "e4671880",
      "metadata": {
        "id": "e4671880"
      },
      "source": [
        "# Transformer"
      ]
    },
    {
      "cell_type": "code",
      "execution_count": null,
      "id": "82807aef",
      "metadata": {
        "id": "82807aef"
      },
      "outputs": [],
      "source": [
        "import torch\n",
        "import torch.nn as nn\n",
        "import torch.optim as optim\n",
        "import torch.utils.data as data\n",
        "import math"
      ]
    },
    {
      "cell_type": "code",
      "execution_count": null,
      "id": "30aec8f3",
      "metadata": {
        "colab": {
          "base_uri": "https://localhost:8080/"
        },
        "id": "30aec8f3",
        "outputId": "b9d6b6e1-dae5-4086-c456-05c31df01977"
      },
      "outputs": [],
      "source": [
        "device = torch.device(\"cuda\" if torch.cuda.is_available() else \"cpu\")\n",
        "print('device:', device)"
      ]
    },
    {
      "cell_type": "markdown",
      "id": "60a6dcdf",
      "metadata": {
        "id": "60a6dcdf"
      },
      "source": [
        "### Positional Encoding"
      ]
    },
    {
      "cell_type": "markdown",
      "id": "d4b39053",
      "metadata": {
        "id": "d4b39053"
      },
      "source": [
        "Encoder"
      ]
    },
    {
      "cell_type": "code",
      "execution_count": null,
      "id": "c553d75d",
      "metadata": {
        "id": "c553d75d"
      },
      "outputs": [],
      "source": [
        "# Relative position encoding\n",
        "\n",
        "class EncoderPositionalEncoding(nn.Module):\n",
        "    def __init__(self, d_model):\n",
        "        super(EncoderPositionalEncoding, self).__init__()\n",
        "\n",
        "        self.fc1 = nn.Linear(4, d_model)\n",
        "        self.relu = nn.ReLU()\n",
        "        self.fc2 = nn.Linear(d_model, d_model)\n",
        "\n",
        "    def forward(self, x, pos):\n",
        "        pos = self.fc1(pos)\n",
        "        pos = self.relu(pos)\n",
        "        pos = self.fc2(pos)\n",
        "        return x + pos"
      ]
    },
    {
      "cell_type": "markdown",
      "id": "ce583909",
      "metadata": {
        "id": "ce583909"
      },
      "source": [
        "Decoder"
      ]
    },
    {
      "cell_type": "code",
      "execution_count": null,
      "id": "23481f01",
      "metadata": {
        "id": "23481f01"
      },
      "outputs": [],
      "source": [
        "class DecoderPositionalEncoding(nn.Module):\n",
        "    def __init__(self, d_model, max_seq_length):\n",
        "        super(DecoderPositionalEncoding, self).__init__()\n",
        "\n",
        "        pe = torch.zeros(max_seq_length, d_model)\n",
        "        position = torch.arange(0, max_seq_length, dtype=torch.float).unsqueeze(1)\n",
        "        div_term = torch.exp(torch.arange(0, d_model, 2).float() * -(math.log(10000.0) / d_model))\n",
        "\n",
        "        pe[:, 0::2] = torch.sin(position * div_term)\n",
        "        pe[:, 1::2] = torch.cos(position * div_term)\n",
        "\n",
        "        self.register_buffer('pe', pe.unsqueeze(0))\n",
        "\n",
        "    def forward(self, x):\n",
        "        return x + self.pe[:, :x.size(1)]"
      ]
    },
    {
      "cell_type": "markdown",
      "id": "4807bbb3",
      "metadata": {
        "id": "4807bbb3"
      },
      "source": [
        "### Multihead Attention"
      ]
    },
    {
      "cell_type": "markdown",
      "id": "18e08a51",
      "metadata": {
        "id": "18e08a51"
      },
      "source": [
        "Encoder"
      ]
    },
    {
      "cell_type": "code",
      "execution_count": null,
      "id": "5e68c9cf",
      "metadata": {
        "id": "5e68c9cf"
      },
      "outputs": [],
      "source": [
        "class EncoderMultiHeadAttention(nn.Module):\n",
        "    def __init__(self, d_model, num_heads, max_seq_length):\n",
        "        super(EncoderMultiHeadAttention, self).__init__()\n",
        "        # Ensure that the model dimension (d_model) is divisible by the number of heads\n",
        "        assert d_model % num_heads == 0, \"d_model must be divisible by num_heads\"\n",
        "\n",
        "        # Initialize dimensions\n",
        "        self.d_model = d_model # Model's dimension\n",
        "        self.num_heads = num_heads # Number of attention heads\n",
        "        self.max_seq_length = max_seq_length # Maximum sequence length for positional encoding\n",
        "        self.d_k = d_model // num_heads # Dimension of each head's key, query, and value\n",
        "\n",
        "        # Linear layers for transforming inputs\n",
        "        self.W_q = nn.Linear(d_model, d_model) # Query transformation\n",
        "        self.W_k = nn.Linear(d_model, d_model) # Key transformation\n",
        "        self.W_v = nn.Linear(d_model, d_model) # Value transformation\n",
        "        self.W_o = nn.Linear(d_model, d_model) # Output transformation\n",
        "\n",
        "        self.pe = nn.ParameterList([nn.Linear(max_seq_length, self.d_model * max_seq_length)] * 4)\n",
        "\n",
        "    def scaled_dot_product_attention(self, Q, K, V, pe, mask=None):\n",
        "        # Calculate attention scores\n",
        "        attn_scores = (torch.matmul(Q, K.transpose(-2, -1)) + pe) / math.sqrt(self.d_k)\n",
        "\n",
        "        # Apply mask if provided (useful for preventing attention to certain parts like padding)\n",
        "        if mask is not None:\n",
        "            attn_scores = attn_scores.masked_fill(mask == 0, -1e9)\n",
        "\n",
        "        # Softmax is applied to obtain attention probabilities\n",
        "        attn_probs = torch.softmax(attn_scores, dim=-1)\n",
        "\n",
        "        # Multiply by values to obtain the final output\n",
        "        output = torch.matmul(attn_probs, V)\n",
        "        return output\n",
        "\n",
        "    def split_heads(self, x):\n",
        "        # Reshape the input to have num_heads for multi-head attention\n",
        "        batch_size, seq_length, d_model = x.size()\n",
        "        return x.view(batch_size, seq_length, self.num_heads, self.d_k).transpose(1, 2)\n",
        "\n",
        "    def split_pe(self, pe):\n",
        "        # Reshape the input to have num_heads for multi-head attention\n",
        "        batch_size, tmp = pe.size()\n",
        "        return pe.view(batch_size, self.num_heads, self.d_k, self.max_seq_length)\n",
        "\n",
        "    def combine_heads(self, x):\n",
        "        # Combine the multiple heads back to original shape\n",
        "        batch_size, _, seq_length, d_k = x.size()\n",
        "        return x.transpose(1, 2).contiguous().view(batch_size, seq_length, self.d_model)\n",
        "\n",
        "    def forward(self, Q, K, V, pos, mask=None):\n",
        "        # Apply linear transformations and split heads\n",
        "        Q = self.W_q(Q)\n",
        "        K = self.split_heads(self.W_k(K))\n",
        "        V = self.split_heads(self.W_v(V))\n",
        "        Q = self.split_heads(Q)\n",
        "        batch_size = Q.shape[0]\n",
        "        pe = sum(self.split_pe(self.pe[i](pos[:, :, i])) for i in range(4))\n",
        "        pe = torch.matmul(Q, pe)\n",
        "\n",
        "        # Perform scaled dot-product attention\n",
        "        attn_output = self.scaled_dot_product_attention(Q, K, V, pe, mask)\n",
        "\n",
        "        # Combine heads and apply output transformation\n",
        "        output = self.W_o(self.combine_heads(attn_output))\n",
        "        return output"
      ]
    },
    {
      "cell_type": "markdown",
      "id": "731a876a",
      "metadata": {
        "id": "731a876a"
      },
      "source": [
        "Decoder"
      ]
    },
    {
      "cell_type": "code",
      "execution_count": null,
      "id": "c8bae953",
      "metadata": {
        "id": "c8bae953"
      },
      "outputs": [],
      "source": [
        "class DecoderMultiHeadAttention(nn.Module):\n",
        "    def __init__(self, d_model, num_heads, max_seq_length):\n",
        "        super(DecoderMultiHeadAttention, self).__init__()\n",
        "        # Ensure that the model dimension (d_model) is divisible by the number of heads\n",
        "        assert d_model % num_heads == 0, \"d_model must be divisible by num_heads\"\n",
        "\n",
        "        # Initialize dimensions\n",
        "        self.d_model = d_model # Model's dimension\n",
        "        self.num_heads = num_heads # Number of attention heads\n",
        "        self.max_seq_length = max_seq_length # Maximum sequence length for positional encoding\n",
        "        self.d_k = d_model // num_heads # Dimension of each head's key, query, and value\n",
        "\n",
        "        # Linear layers for transforming inputs\n",
        "        self.W_q = nn.Linear(d_model, d_model) # Query transformation\n",
        "        self.W_k = nn.Linear(d_model, d_model) # Key transformation\n",
        "        self.W_v = nn.Linear(d_model, d_model) # Value transformation\n",
        "        self.W_o = nn.Linear(d_model, d_model) # Output transformation\n",
        "\n",
        "        self.pe = nn.Parameter(torch.randn(self.d_k, max_seq_length)) # Relative position encoding\n",
        "\n",
        "    def scaled_dot_product_attention(self, Q, K, V, pe, mask=None):\n",
        "        # Calculate attention scores\n",
        "        attn_scores = (torch.matmul(Q, K.transpose(-2, -1)) + pe) / math.sqrt(self.d_k)\n",
        "\n",
        "        # Apply mask if provided (useful for preventing attention to certain parts like padding)\n",
        "        if mask is not None:\n",
        "            attn_scores = attn_scores.masked_fill(mask == 0, -1e9)\n",
        "\n",
        "        # Softmax is applied to obtain attention probabilities\n",
        "        attn_probs = torch.softmax(attn_scores, dim=-1)\n",
        "\n",
        "        # Multiply by values to obtain the final output\n",
        "        output = torch.matmul(attn_probs, V)\n",
        "        return output\n",
        "\n",
        "    def split_heads(self, x):\n",
        "        # Reshape the input to have num_heads for multi-head attention\n",
        "        batch_size, seq_length, d_model = x.size()\n",
        "        return x.view(batch_size, seq_length, self.num_heads, self.d_k).transpose(1, 2)\n",
        "\n",
        "    def combine_heads(self, x):\n",
        "        # Combine the multiple heads back to original shape\n",
        "        batch_size, _, seq_length, d_k = x.size()\n",
        "        return x.transpose(1, 2).contiguous().view(batch_size, seq_length, self.d_model)\n",
        "\n",
        "    def forward(self, Q, K, V, mask=None):\n",
        "        # Apply linear transformations and split heads\n",
        "        Q = self.split_heads(self.W_q(Q))\n",
        "        K = self.split_heads(self.W_k(K))\n",
        "        V = self.split_heads(self.W_v(V))\n",
        "        pe = torch.matmul(Q, self.pe[:, self.max_seq_length - K.shape[2]:])\n",
        "\n",
        "        # Perform scaled dot-product attention\n",
        "        attn_output = self.scaled_dot_product_attention(Q, K, V, pe, mask)\n",
        "\n",
        "        # Combine heads and apply output transformation\n",
        "        output = self.W_o(self.combine_heads(attn_output))\n",
        "        return output"
      ]
    },
    {
      "cell_type": "markdown",
      "id": "ee181a7b",
      "metadata": {
        "id": "ee181a7b"
      },
      "source": [
        "### Position-wise FFN"
      ]
    },
    {
      "cell_type": "code",
      "execution_count": null,
      "id": "10cdd74e",
      "metadata": {
        "id": "10cdd74e"
      },
      "outputs": [],
      "source": [
        "class PositionWiseFeedForward(nn.Module):\n",
        "    def __init__(self, d_model, d_ff):\n",
        "        super(PositionWiseFeedForward, self).__init__()\n",
        "        self.fc1 = nn.Linear(d_model, d_ff)\n",
        "        self.fc2 = nn.Linear(d_ff, d_model)\n",
        "        self.relu = nn.ReLU()\n",
        "\n",
        "    def forward(self, x):\n",
        "        x = self.fc1(x)\n",
        "        x = self.relu(x)\n",
        "        x = self.fc2(x)\n",
        "        return x"
      ]
    },
    {
      "cell_type": "markdown",
      "id": "11dd3d43",
      "metadata": {
        "id": "11dd3d43"
      },
      "source": [
        "### Encoder"
      ]
    },
    {
      "cell_type": "code",
      "execution_count": null,
      "id": "19c779e3",
      "metadata": {
        "id": "19c779e3"
      },
      "outputs": [],
      "source": [
        "class EncoderLayer(nn.Module):\n",
        "    def __init__(self, d_model, num_heads, d_ff, dropout, max_seq_length):\n",
        "        super(EncoderLayer, self).__init__()\n",
        "        self.self_attn = EncoderMultiHeadAttention(d_model, num_heads, max_seq_length)\n",
        "        self.feed_forward = PositionWiseFeedForward(d_model, d_ff)\n",
        "        self.norm1 = nn.LayerNorm(d_model)\n",
        "        self.norm2 = nn.LayerNorm(d_model)\n",
        "        self.dropout = nn.Dropout(dropout)\n",
        "\n",
        "    def forward(self, x, pos, mask):\n",
        "        attn_output = self.self_attn(x, x, x, pos, mask)\n",
        "        x = self.norm1(x + self.dropout(attn_output))\n",
        "        ff_output = self.feed_forward(x)\n",
        "        x = self.norm2(x + self.dropout(ff_output))\n",
        "        return x"
      ]
    },
    {
      "cell_type": "markdown",
      "id": "c2f8388c",
      "metadata": {
        "id": "c2f8388c"
      },
      "source": [
        "### Decoder"
      ]
    },
    {
      "cell_type": "code",
      "execution_count": null,
      "id": "9a09adc7",
      "metadata": {
        "id": "9a09adc7"
      },
      "outputs": [],
      "source": [
        "class DecoderLayer(nn.Module):\n",
        "    def __init__(self, d_model, num_heads, d_ff, dropout, max_seq_length):\n",
        "        super(DecoderLayer, self).__init__()\n",
        "        self.self_attn = DecoderMultiHeadAttention(d_model, num_heads, max_seq_length)\n",
        "        self.cross_attn = DecoderMultiHeadAttention(d_model, num_heads, max_seq_length)\n",
        "        self.feed_forward = PositionWiseFeedForward(d_model, d_ff)\n",
        "        self.norm1 = nn.LayerNorm(d_model)\n",
        "        self.norm2 = nn.LayerNorm(d_model)\n",
        "        self.norm3 = nn.LayerNorm(d_model)\n",
        "        self.dropout = nn.Dropout(dropout)\n",
        "\n",
        "    def forward(self, x, enc_output, src_mask, tgt_mask):\n",
        "        attn_output = self.self_attn(x, x, x, tgt_mask)\n",
        "        x = self.norm1(x + self.dropout(attn_output))\n",
        "        attn_output = self.cross_attn(x, enc_output, enc_output, src_mask)\n",
        "        x = self.norm2(x + self.dropout(attn_output))\n",
        "        ff_output = self.feed_forward(x)\n",
        "        x = self.norm3(x + self.dropout(ff_output))\n",
        "        return x"
      ]
    },
    {
      "cell_type": "markdown",
      "id": "d6144a41",
      "metadata": {
        "id": "d6144a41"
      },
      "source": [
        "### Transformer"
      ]
    },
    {
      "cell_type": "code",
      "execution_count": null,
      "id": "6d73be01",
      "metadata": {
        "id": "6d73be01"
      },
      "outputs": [],
      "source": [
        "class Transformer(nn.Module):\n",
        "    def __init__(self, src_vocab_size, tgt_vocab_size, d_model, num_heads, num_encoder_layers, num_decoder_layers, d_ff, max_seq_length, dropout):\n",
        "        super(Transformer, self).__init__()\n",
        "        self.encoder_embedding = nn.Embedding(src_vocab_size, d_model)\n",
        "        self.decoder_embedding = nn.Embedding(tgt_vocab_size, d_model)\n",
        "\n",
        "        self.encoder_layers = nn.ModuleList([EncoderLayer(d_model, num_heads, d_ff, dropout, max_seq_length) for _ in range(num_encoder_layers)])\n",
        "        self.decoder_layers = nn.ModuleList([DecoderLayer(d_model, num_heads, d_ff, dropout, max_seq_length) for _ in range(num_decoder_layers)])\n",
        "\n",
        "        self.fc = nn.Linear(d_model, tgt_vocab_size)\n",
        "        self.dropout = nn.Dropout(dropout)\n",
        "\n",
        "    def generate_mask(self, src, tgt):\n",
        "        src_mask = (src != 0).unsqueeze(1).unsqueeze(2)\n",
        "        tgt_mask = (tgt != 0).unsqueeze(1).unsqueeze(3)\n",
        "        seq_length = tgt.size(1)\n",
        "        nopeak_mask = (1 - torch.triu(torch.ones(1, seq_length, seq_length), diagonal=1)).bool().to(device)\n",
        "        tgt_mask = tgt_mask & nopeak_mask\n",
        "        return src_mask, tgt_mask\n",
        "\n",
        "    def forward(self, src, pos, tgt):\n",
        "        src_mask, tgt_mask = self.generate_mask(src, tgt)\n",
        "        src_embedded = self.dropout(self.encoder_embedding(src))\n",
        "        tgt_embedded = self.dropout(self.decoder_embedding(tgt))\n",
        "\n",
        "        enc_output = src_embedded\n",
        "        for enc_layer in self.encoder_layers:\n",
        "            enc_output = enc_layer(enc_output, pos, src_mask)\n",
        "\n",
        "        dec_output = tgt_embedded\n",
        "        for dec_layer in self.decoder_layers:\n",
        "            dec_output = dec_layer(dec_output, enc_output, src_mask, tgt_mask)\n",
        "\n",
        "        output = self.fc(dec_output)\n",
        "        return output"
      ]
    },
    {
      "cell_type": "markdown",
      "id": "8397af08",
      "metadata": {
        "id": "8397af08"
      },
      "source": [
        "# Training the model"
      ]
    },
    {
      "cell_type": "code",
      "execution_count": null,
      "id": "cef242e7",
      "metadata": {
        "id": "cef242e7"
      },
      "outputs": [],
      "source": [
        "d_model = 64\n",
        "num_heads = 4\n",
        "num_encoder_layers = 4\n",
        "num_decoder_layers = 4\n",
        "d_ff = 256\n",
        "dropout = 0.1\n",
        "src_vocab_size = len(embeddings)\n",
        "tgt_vocab_size = len(labels) + 2\n",
        "max_seq_length = 200\n",
        "batch_size = 32\n",
        "\n",
        "transformer = Transformer(src_vocab_size, tgt_vocab_size, d_model,\n",
        "                          num_heads, num_encoder_layers, num_decoder_layers,\n",
        "                          d_ff, max_seq_length, dropout).to(device)\n",
        "\n",
        "criterion = nn.CrossEntropyLoss(ignore_index=0).to(device)\n",
        "optimizer = optim.Adam(transformer.parameters(), lr=0.00001, betas=(0.9, 0.98), eps=1e-9)"
      ]
    },
    {
      "cell_type": "code",
      "execution_count": null,
      "id": "cf886824",
      "metadata": {},
      "outputs": [],
      "source": [
        "transformer.load_state_dict(torch.load('transformer_model.sav'))"
      ]
    },
    {
      "cell_type": "code",
      "execution_count": null,
      "id": "3f32441e",
      "metadata": {
        "id": "3f32441e"
      },
      "outputs": [],
      "source": [
        "def create_dataset(data, maxsize=-1):\n",
        "    emb = data[\"embeddings\"]\n",
        "    pos = data[\"pos\"]\n",
        "    formula = data[\"formula\"]\n",
        "    if maxsize == -1:\n",
        "        maxsize = len(emb)\n",
        "    tmp_emb, tmp_pos, tmp_formula = [], [], []\n",
        "    print(f\"Starting with {maxsize}\")\n",
        "    for i in range(maxsize):\n",
        "        try:\n",
        "            if i % 10000 == 0:\n",
        "                print(\"Processed\", i, \"/\", maxsize)\n",
        "            if len(emb[i]) == 0 or len(pos[i]) == 0 or len(formula[i]) == 0:\n",
        "                continue\n",
        "            if len(emb[i]) > max_seq_length or len(formula[i]) > max_seq_length:\n",
        "                continue\n",
        "            # Efficient embedding padding\n",
        "            emb_row = torch.tensor(emb[i], dtype=torch.long).reshape((-1))\n",
        "\n",
        "            # Efficient min calculation\n",
        "            pos_i = pos[i]\n",
        "            pos_arr = torch.tensor(pos_i, dtype=torch.float)\n",
        "            minx = pos_arr[:, 0].min().item() if len(pos_arr) > 0 else 0\n",
        "            miny = pos_arr[:, 1].min().item() if len(pos_arr) > 0 else 0\n",
        "            dak = torch.full((max_seq_length, 4), -1000000, dtype=torch.float)\n",
        "            for j, x in enumerate(pos_i):\n",
        "                dak[j] = torch.tensor(\n",
        "                    [x[0] - minx, x[1] - miny, x[2] - minx, x[3] - miny],\n",
        "                    dtype=torch.float,\n",
        "                )\n",
        "\n",
        "            # Efficient formula padding\n",
        "            padded_formula = torch.tensor(formula[i], dtype=torch.long)\n",
        "\n",
        "            tmp_emb.append(emb_row)\n",
        "            tmp_pos.append(dak)\n",
        "            tmp_formula.append(padded_formula)\n",
        "        except Exception as e:\n",
        "            print(f\"Skipped sample {i} due to error: {e}\")\n",
        "            continue\n",
        "    print(\"Finished processing\")\n",
        "    tmp_emb[0] = torch.concat(\n",
        "        [tmp_emb[0], torch.zeros(max_seq_length - len(tmp_emb[0]), dtype=torch.long)]\n",
        "    )\n",
        "    tmp_formula = [\n",
        "        torch.cat(\n",
        "            [f, torch.tensor([len(labels) + 1] * (max_seq_length - len(f)), dtype=torch.long)]\n",
        "        )\n",
        "        for f in tmp_formula\n",
        "    ]\n",
        "    emb = torch.nn.utils.rnn.pad_sequence(tmp_emb, batch_first=True, padding_value=0)\n",
        "    pos = torch.stack(tmp_pos)\n",
        "    formula = torch.nn.utils.rnn.pad_sequence(tmp_formula, batch_first=True, padding_value=len(labels) + 1)\n",
        "    return emb, pos, formula"
      ]
    },
    {
      "cell_type": "code",
      "execution_count": null,
      "id": "lw8dkrjU2oAT",
      "metadata": {
        "id": "lw8dkrjU2oAT"
      },
      "outputs": [],
      "source": [
        "src_train, pos_train, tgt_train = create_dataset(train)\n",
        "src_test, pos_test, tgt_test = create_dataset(test)\n",
        "src_validate, pos_validate, tgt_validate = create_dataset(validate)"
      ]
    },
    {
      "cell_type": "code",
      "execution_count": null,
      "id": "e9bdab4f",
      "metadata": {
        "id": "e9bdab4f"
      },
      "outputs": [],
      "source": [
        "train_loader = data.DataLoader(data.TensorDataset(src_train, pos_train, tgt_train), batch_size=batch_size, shuffle=True)\n",
        "test_loader = data.DataLoader(data.TensorDataset(src_test, pos_test, tgt_test), batch_size=batch_size, shuffle=False)\n",
        "validate_loader = data.DataLoader(data.TensorDataset(src_validate, pos_validate, tgt_validate), batch_size=batch_size, shuffle=False)"
      ]
    },
    {
      "cell_type": "code",
      "execution_count": null,
      "id": "197b46ff",
      "metadata": {},
      "outputs": [],
      "source": [
        "def calculate_accuracy(outputs, targets, pad_token=0):\n",
        "    \"\"\"\n",
        "    Calculate accuracy for sequence-to-sequence tasks.\n",
        "    \n",
        "    Args:\n",
        "        outputs: Model predictions [batch_size, seq_len, vocab_size]\n",
        "        targets: Target sequences [batch_size, seq_len]\n",
        "        pad_token: Token used for padding (default: 0)\n",
        "    \n",
        "    Returns:\n",
        "        accuracy: Percentage of correctly predicted tokens (excluding padding)\n",
        "    \"\"\"\n",
        "    # Get predicted tokens (argmax over vocab dimension)\n",
        "    predictions = torch.argmax(outputs, dim=-1)  # [batch_size, seq_len]\n",
        "    \n",
        "    # Create mask to ignore padding tokens\n",
        "    mask = (targets != pad_token)\n",
        "    \n",
        "    # Calculate correct predictions\n",
        "    correct = (predictions == targets) & mask\n",
        "    \n",
        "    # Calculate accuracy as ratio of correct predictions to total non-padding tokens\n",
        "    accuracy = correct.sum().float() / mask.sum().float()\n",
        "    \n",
        "    return accuracy.item() * 100  # Return as percentage\n",
        "\n",
        "\n",
        "def calculate_sequence_accuracy(outputs, targets, pad_token=0):\n",
        "    \"\"\"\n",
        "    Calculate sequence-level accuracy (exact match for entire sequences).\n",
        "    \n",
        "    Args:\n",
        "        outputs: Model predictions [batch_size, seq_len, vocab_size]\n",
        "        targets: Target sequences [batch_size, seq_len]\n",
        "        pad_token: Token used for padding (default: 0)\n",
        "    \n",
        "    Returns:\n",
        "        sequence_accuracy: Percentage of completely correct sequences\n",
        "    \"\"\"\n",
        "    # Get predicted tokens\n",
        "    predictions = torch.argmax(outputs, dim=-1)  # [batch_size, seq_len]\n",
        "    \n",
        "    # Create mask to ignore padding tokens\n",
        "    mask = (targets != pad_token)\n",
        "    \n",
        "    # Check if predictions match targets for non-padding positions\n",
        "    matches = (predictions == targets) | ~mask  # True for correct or padding positions\n",
        "    \n",
        "    # Check if all tokens in each sequence are correct\n",
        "    sequence_correct = matches.all(dim=1)  # [batch_size]\n",
        "    \n",
        "    # Calculate sequence accuracy\n",
        "    sequence_accuracy = sequence_correct.float().mean()\n",
        "    \n",
        "    return sequence_accuracy.item() * 100  # Return as percentage"
      ]
    },
    {
      "cell_type": "code",
      "execution_count": null,
      "id": "1ef550ae",
      "metadata": {},
      "outputs": [],
      "source": [
        "import nltk\n",
        "from nltk.translate.bleu_score import sentence_bleu, SmoothingFunction\n",
        "nltk.download('punkt')\n",
        "\n",
        "def calculate_bleu(predictions, references):\n",
        "    \"\"\"\n",
        "    Calculate average BLEU score for a batch of predictions and references.\n",
        "    Args:\n",
        "        predictions: list of predicted token lists\n",
        "        references: list of reference token lists\n",
        "    Returns:\n",
        "        Average BLEU score (0-100)\n",
        "    \"\"\"\n",
        "    smoothie = SmoothingFunction().method4\n",
        "    scores = []\n",
        "    for pred, ref in zip(predictions, references):\n",
        "        # BLEU expects list of reference lists\n",
        "        scores.append(sentence_bleu([ref], pred, smoothing_function=smoothie))\n",
        "    return 100 * sum(scores) / len(scores) if scores else 0"
      ]
    },
    {
      "cell_type": "code",
      "execution_count": null,
      "id": "f6121b52",
      "metadata": {
        "colab": {
          "base_uri": "https://localhost:8080/"
        },
        "collapsed": true,
        "id": "f6121b52",
        "outputId": "b23840c1-4b94-4d77-fa1d-0c5551efefac"
      },
      "outputs": [],
      "source": [
        "print('Start training...')\n",
        "\n",
        "transformer.train()\n",
        "\n",
        "for epoch in range(100):\n",
        "    # Training phase\n",
        "    sum_loss = 0\n",
        "    total_accuracy = 0\n",
        "    total_seq_accuracy = 0\n",
        "    num_batches = 0\n",
        "    \n",
        "    for i, (src_data, pos_data, tgt_data) in enumerate(train_loader):\n",
        "        \n",
        "        if i % 1000 == 0: print('Processed', i, '/', len(train_loader))\n",
        "        optimizer.zero_grad()\n",
        "        src_data = src_data.to(device)\n",
        "        pos_data = pos_data.to(device)\n",
        "        tgt_data = tgt_data.to(device) \n",
        "\n",
        "        output = transformer(src_data, pos_data, tgt_data[:, :-1])\n",
        "        \n",
        "        loss = criterion(output.contiguous().view(-1, tgt_vocab_size), tgt_data[:, 1:].contiguous().view(-1))\n",
        "        sum_loss += loss.item()\n",
        "        \n",
        "        # Calculate training accuracy\n",
        "        with torch.no_grad():\n",
        "            batch_accuracy = calculate_accuracy(output, tgt_data[:, 1:], pad_token=tgt_vocab_size - 1)\n",
        "            batch_seq_accuracy = calculate_sequence_accuracy(output, tgt_data[:, 1:], pad_token=tgt_vocab_size - 1)\n",
        "            total_accuracy += batch_accuracy\n",
        "            total_seq_accuracy += batch_seq_accuracy\n",
        "            num_batches += 1\n",
        "\n",
        "        # Gradient clipping for stability\n",
        "        torch.nn.utils.clip_grad_norm_(transformer.parameters(), max_norm=1.0)\n",
        "        \n",
        "        loss.backward()\n",
        "        optimizer.step()\n",
        "\n",
        "    # Calculate and print average training metrics\n",
        "    avg_train_loss = sum_loss / len(train_loader)\n",
        "    avg_train_accuracy = total_accuracy / num_batches\n",
        "    avg_train_seq_accuracy = total_seq_accuracy / num_batches\n",
        "    \n",
        "    print(f\"Epoch: {epoch+1}\")\n",
        "    print(f\"  Training Loss: {avg_train_loss:.4f}\")\n",
        "    print(f\"  Training Token Accuracy: {avg_train_accuracy:.2f}%\")\n",
        "    print(f\"  Training Sequence Accuracy: {avg_train_seq_accuracy:.2f}%\")\n",
        "\n",
        "    # Validation phase\n",
        "    transformer.eval()\n",
        "    \n",
        "    with torch.no_grad():\n",
        "        sum_val_loss = 0\n",
        "        total_val_accuracy = 0\n",
        "        total_val_seq_accuracy = 0\n",
        "\n",
        "        all_preds = []\n",
        "        all_refs = []\n",
        "\n",
        "        for i, (src_data, pos_data, tgt_data) in enumerate(validate_loader):\n",
        "            if i % 1000 == 0: \n",
        "                print('Processed', i, '/', len(validate_loader))\n",
        "            \n",
        "            src_data = src_data.to(device)\n",
        "            pos_data = pos_data.to(device)\n",
        "            tgt_data = tgt_data.to(device) \n",
        "\n",
        "            output = transformer(src_data, pos_data, tgt_data[:, :-1])\n",
        "            loss = criterion(output.contiguous().view(-1, tgt_vocab_size), tgt_data[:, 1:].contiguous().view(-1))\n",
        "            sum_val_loss += loss.item()\n",
        "            \n",
        "            # Calculate validation accuracy\n",
        "            batch_accuracy = calculate_accuracy(output, tgt_data[:, 1:], pad_token=tgt_vocab_size - 1)\n",
        "            batch_seq_accuracy = calculate_sequence_accuracy(output, tgt_data[:, 1:], pad_token=tgt_vocab_size - 1)\n",
        "            total_val_accuracy += batch_accuracy\n",
        "            total_val_seq_accuracy += batch_seq_accuracy\n",
        "\n",
        "            # BLEU: decode predictions and references to token lists\n",
        "            preds = torch.argmax(output, dim=-1).cpu().tolist()\n",
        "            refs = tgt_data[:, 1:].cpu().tolist()\n",
        "            for pred, ref in zip(preds, refs):\n",
        "                # Remove padding tokens (tgt_vocab_size - 1)\n",
        "                pred_tokens = [labels[x - 1] for x in pred if x != (tgt_vocab_size - 1) and x > 0 and x <= len(labels)]\n",
        "                ref_tokens = [labels[x - 1] for x in ref if x != (tgt_vocab_size - 1) and x > 0 and x <= len(labels)]\n",
        "                all_preds.append(pred_tokens)\n",
        "                all_refs.append(ref_tokens)\n",
        "\n",
        "        avg_val_loss = sum_val_loss / len(validate_loader)\n",
        "        avg_val_accuracy = total_val_accuracy / len(validate_loader)\n",
        "        avg_val_seq_accuracy = total_val_seq_accuracy / len(validate_loader)\n",
        "\n",
        "        # Calculate BLEU score for the epoch\n",
        "        bleu_score = calculate_bleu(all_preds, all_refs)\n",
        "        \n",
        "        print(f\"  Validation Loss: {avg_val_loss:.4f}\")\n",
        "        print(f\"  Validation Token Accuracy: {avg_val_accuracy:.2f}%\")\n",
        "        print(f\"  Validation Sequence Accuracy: {avg_val_seq_accuracy:.2f}%\")\n",
        "        print(f\"  Validation BLEU Score: {bleu_score:.2f}\")\n",
        "        \n",
        "        print(\"-\" * 50)\n",
        "\n",
        "    # Switch back to training mode\n",
        "    transformer.train()\n",
        "    \n",
        "    torch.save(transformer.state_dict(), 'transformer' + str(sum_loss / len(train_loader)) + '.sav')"
      ]
    },
    {
      "cell_type": "code",
      "execution_count": null,
      "id": "4d755ab8",
      "metadata": {},
      "outputs": [],
      "source": [
        "torch.save(transformer.state_dict(), 'transformer_model.sav')"
      ]
    },
    {
      "cell_type": "code",
      "execution_count": null,
      "id": "c18b7f7f",
      "metadata": {
        "colab": {
          "base_uri": "https://localhost:8080/"
        },
        "id": "c18b7f7f",
        "outputId": "33ffa48e-d601-429b-ebd9-751d30f4b319"
      },
      "outputs": [],
      "source": [
        "def predict(id):\n",
        "    with torch.no_grad():\n",
        "        output = transformer(src_data[id:id+1].to(device), pos_data[id:id+1].to(device), tgt_data[id:id+1,:-1].to(device)).to(device)\n",
        "        output = output[0]\n",
        "        ans = []\n",
        "        for i in range(len(output)):\n",
        "            ans.append(torch.argmax(output[i]))\n",
        "        ans = torch.tensor(ans)\n",
        "\n",
        "        print('model output:', end=' ')\n",
        "        for x in ans:\n",
        "            if x.item() == len(labels) + 1: continue\n",
        "            print(labels[x.item() - 1], end=' ')\n",
        "        print()\n",
        "\n",
        "        print('answer:', end=' ')\n",
        "        for x in tgt_data[0]:\n",
        "            if x.item() == len(labels) + 1: continue\n",
        "            print(labels[x.item() - 1], end=' ')"
      ]
    },
    {
      "cell_type": "code",
      "execution_count": null,
      "id": "3db87ca8",
      "metadata": {},
      "outputs": [],
      "source": [
        "predict(0)"
      ]
    }
  ],
  "metadata": {
    "accelerator": "GPU",
    "colab": {
      "collapsed_sections": [
        "60a6dcdf",
        "4807bbb3",
        "ee181a7b",
        "11dd3d43",
        "c2f8388c",
        "d6144a41"
      ],
      "gpuType": "T4",
      "provenance": []
    },
    "kernelspec": {
      "display_name": ".venv",
      "language": "python",
      "name": "python3"
    },
    "language_info": {
      "codemirror_mode": {
        "name": "ipython",
        "version": 3
      },
      "file_extension": ".py",
      "mimetype": "text/x-python",
      "name": "python",
      "nbconvert_exporter": "python",
      "pygments_lexer": "ipython3",
      "version": "3.9.21"
    }
  },
  "nbformat": 4,
  "nbformat_minor": 5
}
