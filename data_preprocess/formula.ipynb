{
 "cells": [
  {
   "cell_type": "markdown",
   "id": "e2b73d05",
   "metadata": {},
   "source": [
    "### Read formulas"
   ]
  },
  {
   "cell_type": "code",
   "execution_count": 46,
   "id": "8a915a72",
   "metadata": {},
   "outputs": [],
   "source": [
    "import pandas\n",
    "\n",
    "formulas = pandas.read_csv('.\\\\..\\\\dataset\\\\im2latex_formulas.norm.csv')['formulas']"
   ]
  },
  {
   "cell_type": "markdown",
   "id": "c1cd6bab",
   "metadata": {},
   "source": [
    "### Get labels"
   ]
  },
  {
   "cell_type": "code",
   "execution_count": 57,
   "id": "edfe61dd",
   "metadata": {},
   "outputs": [],
   "source": [
    "\n",
    "label_set = set()\n",
    "\n",
    "for i, formula in enumerate(formulas):\n",
    "    formula.strip()\n",
    "    for lb in formula.split(' '):\n",
    "        label_set.add(lb)"
   ]
  },
  {
   "cell_type": "code",
   "execution_count": 58,
   "id": "7c8e6886",
   "metadata": {},
   "outputs": [
    {
     "data": {
      "application/vnd.jupyter.widget-view+json": {
       "model_id": "41975d0f07ff4ffabb97e350be666b38",
       "version_major": 2,
       "version_minor": 0
      },
      "text/plain": [
       "Saving the dataset (0/1 shards):   0%|          | 0/579 [00:00<?, ? examples/s]"
      ]
     },
     "metadata": {},
     "output_type": "display_data"
    }
   ],
   "source": [
    "import datasets\n",
    "\n",
    "datasets.Dataset.save_to_disk(\n",
    "    datasets.Dataset.from_dict({'labels': label_set}),\n",
    "    './labels'\n",
    ")"
   ]
  }
 ],
 "metadata": {
  "kernelspec": {
   "display_name": "conda-env",
   "language": "python",
   "name": "python3"
  },
  "language_info": {
   "codemirror_mode": {
    "name": "ipython",
    "version": 3
   },
   "file_extension": ".py",
   "mimetype": "text/x-python",
   "name": "python",
   "nbconvert_exporter": "python",
   "pygments_lexer": "ipython3",
   "version": "3.12.9"
  }
 },
 "nbformat": 4,
 "nbformat_minor": 5
}
