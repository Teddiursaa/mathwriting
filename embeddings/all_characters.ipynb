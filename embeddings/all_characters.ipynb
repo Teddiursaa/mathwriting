{
 "cells": [
  {
   "cell_type": "code",
   "execution_count": 1,
   "id": "02f9eea2",
   "metadata": {},
   "outputs": [],
   "source": [
    "import pymupdf\n",
    "import imageio.v3 as iio\n",
    "import numpy as np\n",
    "import skimage as ski\n",
    "import skimage.transform as sktransform\n",
    "\n",
    "def pdf_to_image(pdf_path, dpi=300):\n",
    "    doc = pymupdf.open('pdf_path')\n",
    "    page = doc.load_page(0)\n",
    "    pixmap = page.get_pixmap(dpi=dpi)\n",
    "    return pixmap\n",
    "\n",
    "def rgb_to_gray(im):\n",
    "    return np.round(255 - np.dot(im[...,:3], [0.2989, 0.5870, 0.1140]))\n",
    "\n",
    "new_shape = (8, 8)\n",
    "def scale_image(image):\n",
    "    return sktransform.resize(image, new_shape, anti_aliasing=True)\n",
    "    "
   ]
  },
  {
   "cell_type": "code",
   "execution_count": 139,
   "id": "d24560d9",
   "metadata": {},
   "outputs": [],
   "source": [
    "from skimage.measure import label, regionprops\n",
    "from matplotlib import pyplot as plt\n",
    "import os\n",
    "import random\n",
    "\n",
    "def get_connected_components(im):\n",
    "    return regionprops(label(im))\n",
    "\n",
    "def refine_region(region):\n",
    "    region = np.array(region, dtype=np.float32)\n",
    "    if region.shape[0] > region.shape[1]:\n",
    "        region = np.pad(region, ((0, 0), (0, region.shape[0] - region.shape[1])), 'constant', constant_values=0)\n",
    "    elif region.shape[0] < region.shape[1]:\n",
    "        region = np.pad(region, ((0, region.shape[1] - region.shape[0]), (0, 0)), 'constant', constant_values=0)\n",
    "    region = scale_image(region)\n",
    "    region = region / region.max()\n",
    "    region = np.sqrt(2 * region - region**2)\n",
    "    region = np.round(region * 255).astype(np.uint8)\n",
    "    return region\n",
    "\n",
    "def difference(im1, im2):\n",
    "    return np.sum((im1 - im2) ** 2) / (im1.shape[0] * im1.shape[1]) / 255\n",
    "\n",
    "all_chars = []\n",
    "\n",
    "def process_image(image_path):\n",
    "    image = iio.imread(image_path)\n",
    "    image = rgb_to_gray(image)\n",
    "    regionprops = get_connected_components(image)\n",
    "    regions = [refine_region(region.image) for region in regionprops]\n",
    "    for region in regions:\n",
    "        check = True\n",
    "        for diff_region in all_chars:\n",
    "            if difference(region, diff_region) < 0.1:\n",
    "                check = False\n",
    "                break\n",
    "        if check:\n",
    "            all_chars.append(region)\n",
    "\n",
    "def process_directory(directory_path, filenames):\n",
    "    files = os.listdir(directory_path)\n",
    "    random.shuffle(files)\n",
    "    for i, filename in enumerate(files):\n",
    "        if filename in filenames:\n",
    "            process_image(os.path.join(directory_path, filename))\n",
    "            print(f\"{i}: Processed {filename}, {len(all_chars)} characters found.\")"
   ]
  },
  {
   "cell_type": "code",
   "execution_count": null,
   "id": "acfac191",
   "metadata": {},
   "outputs": [],
   "source": [
    "train_data = open('.\\\\..\\\\dataset\\\\im2latex_train.lst').readlines()\n",
    "filenames = set()\n",
    "for i, filename in enumerate(train_data):\n",
    "   filenames.add(filename.strip().split(' ')[1] + '.png')\n",
    "\n",
    "process_directory('F:\\\\formula_images\\\\formula_images', filenames)"
   ]
  },
  {
   "cell_type": "code",
   "execution_count": 13,
   "id": "7e5fa0e9",
   "metadata": {},
   "outputs": [
    {
     "data": {
      "image/png": "[encoded data removed]",
      "text/plain": [
       "<Figure size 640x480 with 1 Axes>"
      ]
     },
     "metadata": {},
     "output_type": "display_data"
    }
   ],
   "source": [
    "# display images\n",
    "\n",
    "def display_image(image):\n",
    "    plt.imshow(image, cmap='gray')\n",
    "    plt.axis('off')\n",
    "    plt.show()\n",
    "\n",
    "display_image(all_chars[2])"
   ]
  },
  {
   "cell_type": "code",
   "execution_count": null,
   "id": "07cb7d69",
   "metadata": {},
   "outputs": [
    {
     "name": "stderr",
     "output_type": "stream",
     "text": [
      "d:\\miniconda\\envs\\conda-env\\Lib\\site-packages\\tqdm\\auto.py:21: TqdmWarning: IProgress not found. Please update jupyter and ipywidgets. See https://ipywidgets.readthedocs.io/en/stable/user_install.html\n",
      "  from .autonotebook import tqdm as notebook_tqdm\n",
      "Saving the dataset (1/1 shards): 100%|██████████| 5938/5938 [00:00<00:00, 143153.93 examples/s]\n"
     ]
    }
   ],
   "source": [
    "import pandas as pd\n",
    "import datasets\n",
    "\n",
    "data_dict = {}\n",
    "\n",
    "for i, char in enumerate(all_chars):\n",
    "    data_dict[i] = np.array(char).flatten().tolist()\n",
    "\n",
    "datasets.Dataset.save_to_disk(\n",
    "    datasets.Dataset.from_dict({'image': data_dict.values()}),\n",
    "    './all_characters'\n",
    ")"
   ]
  }
 ],
 "metadata": {
  "kernelspec": {
   "display_name": "conda-env",
   "language": "python",
   "name": "python3"
  },
  "language_info": {
   "codemirror_mode": {
    "name": "ipython",
    "version": 3
   },
   "file_extension": ".py",
   "mimetype": "text/x-python",
   "name": "python",
   "nbconvert_exporter": "python",
   "pygments_lexer": "ipython3",
   "version": "3.12.9"
  }
 },
 "nbformat": 4,
 "nbformat_minor": 5
}
