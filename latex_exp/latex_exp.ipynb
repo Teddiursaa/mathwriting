{
 "cells": [
  {
   "cell_type": "markdown",
   "id": "189a42ce",
   "metadata": {},
   "source": [
    "# Detect lines"
   ]
  },
  {
   "cell_type": "code",
   "execution_count": 28,
   "id": "08526c69",
   "metadata": {},
   "outputs": [
    {
     "name": "stdout",
     "output_type": "stream",
     "text": [
      "266\n"
     ]
    },
    {
     "data": {
      "text/plain": [
       "<matplotlib.image.AxesImage at 0x7f5a11213220>"
      ]
     },
     "execution_count": 28,
     "metadata": {},
     "output_type": "execute_result"
    },
    {
     "data": {
      "image/png": "[encoded data removed]",
      "text/plain": [
       "<Figure size 640x480 with 1 Axes>"
      ]
     },
     "metadata": {},
     "output_type": "display_data"
    }
   ],
   "source": [
    "import cv2 as cv\n",
    "import numpy as np\n",
    "import matplotlib.pyplot as plt\n",
    "import math\n",
    "\n",
    "img = cv.imread(cv.samples.findFile(\"../latex_data/latex_data.png\"), cv.IMREAD_GRAYSCALE)\n",
    "\n",
    "def detect_chars(img):\n",
    "    thresh, img = cv.threshold(img, 127, 255, cv.THRESH_BINARY_INV)\n",
    "    num_labels, labels = cv.connectedComponents(img)\n",
    "    groups = [labels == i for i in range(1, num_labels)]\n",
    "    return groups\n",
    "\n",
    "def show_images(img):\n",
    "    images = detect_chars(img)\n",
    "    n = len(images)\n",
    "    cols = math.ceil(math.sqrt(n))\n",
    "    rows = math.ceil(n / cols)\n",
    "\n",
    "    # Total rows: 1 (top row) + rows (for the grid)\n",
    "    fig, axes = plt.subplots(rows + 1, cols, figsize=(cols * 3, (rows + 1) * 3))\n",
    "\n",
    "    # If axes is 1D, make sure it's 2D for consistency\n",
    "    if rows + 1 == 1:\n",
    "        axes = np.array([[axes]])\n",
    "    elif isinstance(axes[0], plt.Axes):\n",
    "        axes = np.expand_dims(axes, axis=0)\n",
    "\n",
    "    # --- Top Row ---\n",
    "    for i in range(cols):\n",
    "        if i == cols // 2:\n",
    "            axes[0, i].imshow(~img, cmap='gray')\n",
    "        axes[0, i].axis('off')  # Hide all, only one will show\n",
    "\n",
    "    # --- Grid Below ---\n",
    "    axes_flat = axes[1:].flatten()\n",
    "    for i, img in enumerate(images):\n",
    "        axes_flat[i].imshow(img, cmap='gray')\n",
    "        axes_flat[i].axis('off')\n",
    "\n",
    "    # Hide any extras\n",
    "    for j in range(i + 1, len(axes_flat)):\n",
    "        axes_flat[j].axis('off')\n",
    "\n",
    "# show_images(img)\n",
    "images = detect_chars(img)\n",
    "print(len(images))\n",
    "margin = 5\n",
    "for i, img in enumerate(images):\n",
    "    pixels = np.nonzero(img)\n",
    "    top, bottom, left, right = min(pixels[0]), max(pixels[0]), min(pixels[1]), max(pixels[1])\n",
    "    images[i] = img[top-margin:bottom+margin, left-margin:right+margin]\n",
    "plt.imshow(images[254])"
   ]
  }
 ],
 "metadata": {
  "kernelspec": {
   "display_name": "venv",
   "language": "python",
   "name": "python3"
  },
  "language_info": {
   "codemirror_mode": {
    "name": "ipython",
    "version": 3
   },
   "file_extension": ".py",
   "mimetype": "text/x-python",
   "name": "python",
   "nbconvert_exporter": "python",
   "pygments_lexer": "ipython3",
   "version": "3.9.21"
  }
 },
 "nbformat": 4,
 "nbformat_minor": 5
}
