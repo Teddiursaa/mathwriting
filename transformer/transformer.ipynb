{
  "cells": [
    {
      "cell_type": "code",
      "execution_count": 17,
      "id": "KexkTNajYB5m",
      "metadata": {
        "colab": {
          "base_uri": "https://localhost:8080/"
        },
        "id": "KexkTNajYB5m",
        "outputId": "9aedfb6c-032d-44b4-b9d8-71506b237e99"
      },
      "outputs": [],
      "source": [
        "# from google.colab import drive\n",
        "# drive.mount('/content/drive')\n",
        "# dataset_path = '/content/drive/MyDrive/AI/transformer/'\n",
        "dataset_path = ''"
      ]
    },
    {
      "cell_type": "code",
      "execution_count": 18,
      "id": "da374fb4",
      "metadata": {
        "id": "da374fb4"
      },
      "outputs": [],
      "source": [
        "import datasets\n",
        "\n",
        "embeddings = datasets.load_from_disk(dataset_path + \"embeddings\")['embeddings']\n",
        "labels = datasets.load_from_disk(dataset_path + \"labels\")['labels']\n",
        "\n",
        "train = datasets.load_from_disk(dataset_path + \"train_dataset\")\n",
        "test = datasets.load_from_disk(dataset_path + \"test_dataset\")\n",
        "validate = datasets.load_from_disk(dataset_path + \"validate_dataset\")"
      ]
    },
    {
      "cell_type": "markdown",
      "id": "e4671880",
      "metadata": {
        "id": "e4671880"
      },
      "source": [
        "# Transformer"
      ]
    },
    {
      "cell_type": "code",
      "execution_count": 19,
      "id": "82807aef",
      "metadata": {
        "id": "82807aef"
      },
      "outputs": [],
      "source": [
        "import torch\n",
        "import torch.nn as nn\n",
        "import torch.optim as optim\n",
        "import torch.utils.data as data\n",
        "import math"
      ]
    },
    {
      "cell_type": "code",
      "execution_count": 20,
      "id": "30aec8f3",
      "metadata": {
        "colab": {
          "base_uri": "https://localhost:8080/"
        },
        "id": "30aec8f3",
        "outputId": "b9d6b6e1-dae5-4086-c456-05c31df01977"
      },
      "outputs": [
        {
          "name": "stdout",
          "output_type": "stream",
          "text": [
            "device: cuda\n"
          ]
        }
      ],
      "source": [
        "device = torch.device(\"cuda\" if torch.cuda.is_available() else \"cpu\")\n",
        "# device = torch.device(\"cpu\")\n",
        "print('device:', device)"
      ]
    },
    {
      "cell_type": "markdown",
      "id": "60a6dcdf",
      "metadata": {
        "id": "60a6dcdf"
      },
      "source": [
        "### Positional Encoding"
      ]
    },
    {
      "cell_type": "markdown",
      "id": "d4b39053",
      "metadata": {
        "id": "d4b39053"
      },
      "source": [
        "Encoder"
      ]
    },
    {
      "cell_type": "code",
      "execution_count": 21,
      "id": "c553d75d",
      "metadata": {
        "id": "c553d75d"
      },
      "outputs": [],
      "source": [
        "# Relative position encoding\n",
        "\n",
        "class EncoderPositionalEncoding(nn.Module):\n",
        "    def __init__(self, d_model):\n",
        "        super(EncoderPositionalEncoding, self).__init__()\n",
        "\n",
        "        self.fc1 = nn.Linear(4, d_model)\n",
        "        self.relu = nn.ReLU()\n",
        "        self.fc2 = nn.Linear(d_model, d_model)\n",
        "\n",
        "    def forward(self, x, pos):\n",
        "        pos = self.fc1(pos)\n",
        "        pos = self.relu(pos)\n",
        "        pos = self.fc2(pos)\n",
        "        return x + pos"
      ]
    },
    {
      "cell_type": "markdown",
      "id": "ce583909",
      "metadata": {
        "id": "ce583909"
      },
      "source": [
        "Decoder"
      ]
    },
    {
      "cell_type": "code",
      "execution_count": 22,
      "id": "23481f01",
      "metadata": {
        "id": "23481f01"
      },
      "outputs": [],
      "source": [
        "class DecoderPositionalEncoding(nn.Module):\n",
        "    def __init__(self, d_model, max_seq_length):\n",
        "        super(DecoderPositionalEncoding, self).__init__()\n",
        "\n",
        "        pe = torch.zeros(max_seq_length, d_model)\n",
        "        position = torch.arange(0, max_seq_length, dtype=torch.float).unsqueeze(1)\n",
        "        div_term = torch.exp(torch.arange(0, d_model, 2).float() * -(math.log(10000.0) / d_model))\n",
        "\n",
        "        pe[:, 0::2] = torch.sin(position * div_term)\n",
        "        pe[:, 1::2] = torch.cos(position * div_term)\n",
        "\n",
        "        self.register_buffer('pe', pe.unsqueeze(0))\n",
        "\n",
        "    def forward(self, x):\n",
        "        return x + self.pe[:, :x.size(1)]"
      ]
    },
    {
      "cell_type": "markdown",
      "id": "4807bbb3",
      "metadata": {
        "id": "4807bbb3"
      },
      "source": [
        "### Multihead Attention"
      ]
    },
    {
      "cell_type": "markdown",
      "id": "18e08a51",
      "metadata": {
        "id": "18e08a51"
      },
      "source": [
        "Encoder"
      ]
    },
    {
      "cell_type": "code",
      "execution_count": 23,
      "id": "5e68c9cf",
      "metadata": {
        "id": "5e68c9cf"
      },
      "outputs": [],
      "source": [
        "class EncoderMultiHeadAttention(nn.Module):\n",
        "    def __init__(self, d_model, num_heads, max_seq_length):\n",
        "        super(EncoderMultiHeadAttention, self).__init__()\n",
        "        # Ensure that the model dimension (d_model) is divisible by the number of heads\n",
        "        assert d_model % num_heads == 0, \"d_model must be divisible by num_heads\"\n",
        "\n",
        "        # Initialize dimensions\n",
        "        self.d_model = d_model # Model's dimension\n",
        "        self.num_heads = num_heads # Number of attention heads\n",
        "        self.max_seq_length = max_seq_length # Maximum sequence length for positional encoding\n",
        "        self.d_k = d_model // num_heads # Dimension of each head's key, query, and value\n",
        "\n",
        "        # Linear layers for transforming inputs\n",
        "        self.W_q = nn.Linear(d_model, d_model) # Query transformation\n",
        "        self.W_k = nn.Linear(d_model, d_model) # Key transformation\n",
        "        self.W_v = nn.Linear(d_model, d_model) # Value transformation\n",
        "        self.W_o = nn.Linear(d_model, d_model) # Output transformation\n",
        "\n",
        "        self.pe = nn.ParameterList([nn.Linear(max_seq_length, self.d_model * max_seq_length)] * 4)\n",
        "\n",
        "    def scaled_dot_product_attention(self, Q, K, V, pe, mask=None):\n",
        "        # Calculate attention scores\n",
        "        attn_scores = (torch.matmul(Q, K.transpose(-2, -1)) + pe) / math.sqrt(self.d_k)\n",
        "\n",
        "        # Apply mask if provided (useful for preventing attention to certain parts like padding)\n",
        "        if mask is not None:\n",
        "            attn_scores = attn_scores.masked_fill(mask == 0, -1e9)\n",
        "\n",
        "        # Softmax is applied to obtain attention probabilities\n",
        "        attn_probs = torch.softmax(attn_scores, dim=-1)\n",
        "\n",
        "        # Multiply by values to obtain the final output\n",
        "        output = torch.matmul(attn_probs, V)\n",
        "        return output\n",
        "\n",
        "    def split_heads(self, x):\n",
        "        # Reshape the input to have num_heads for multi-head attention\n",
        "        batch_size, seq_length, d_model = x.size()\n",
        "        return x.view(batch_size, seq_length, self.num_heads, self.d_k).transpose(1, 2)\n",
        "\n",
        "    def split_pe(self, pe):\n",
        "        # Reshape the input to have num_heads for multi-head attention\n",
        "        batch_size, tmp = pe.size()\n",
        "        return pe.view(batch_size, self.num_heads, self.d_k, self.max_seq_length)\n",
        "\n",
        "    def combine_heads(self, x):\n",
        "        # Combine the multiple heads back to original shape\n",
        "        batch_size, _, seq_length, d_k = x.size()\n",
        "        return x.transpose(1, 2).contiguous().view(batch_size, seq_length, self.d_model)\n",
        "\n",
        "    def forward(self, Q, K, V, pos, mask=None):\n",
        "        # Apply linear transformations and split heads\n",
        "        Q = self.W_q(Q)\n",
        "        K = self.split_heads(self.W_k(K))\n",
        "        V = self.split_heads(self.W_v(V))\n",
        "        Q = self.split_heads(Q)\n",
        "        batch_size = Q.shape[0]\n",
        "        pe = sum(self.split_pe(self.pe[i](pos[:, :, i])) for i in range(4))\n",
        "        pe = torch.matmul(Q, pe)\n",
        "\n",
        "        # Perform scaled dot-product attention\n",
        "        attn_output = self.scaled_dot_product_attention(Q, K, V, pe, mask)\n",
        "\n",
        "        # Combine heads and apply output transformation\n",
        "        output = self.W_o(self.combine_heads(attn_output))\n",
        "        return output"
      ]
    },
    {
      "cell_type": "markdown",
      "id": "731a876a",
      "metadata": {
        "id": "731a876a"
      },
      "source": [
        "Decoder"
      ]
    },
    {
      "cell_type": "code",
      "execution_count": 24,
      "id": "c8bae953",
      "metadata": {
        "id": "c8bae953"
      },
      "outputs": [],
      "source": [
        "class DecoderMultiHeadAttention(nn.Module):\n",
        "    def __init__(self, d_model, num_heads, max_seq_length):\n",
        "        super(DecoderMultiHeadAttention, self).__init__()\n",
        "        # Ensure that the model dimension (d_model) is divisible by the number of heads\n",
        "        assert d_model % num_heads == 0, \"d_model must be divisible by num_heads\"\n",
        "\n",
        "        # Initialize dimensions\n",
        "        self.d_model = d_model # Model's dimension\n",
        "        self.num_heads = num_heads # Number of attention heads\n",
        "        self.max_seq_length = max_seq_length # Maximum sequence length for positional encoding\n",
        "        self.d_k = d_model // num_heads # Dimension of each head's key, query, and value\n",
        "\n",
        "        # Linear layers for transforming inputs\n",
        "        self.W_q = nn.Linear(d_model, d_model) # Query transformation\n",
        "        self.W_k = nn.Linear(d_model, d_model) # Key transformation\n",
        "        self.W_v = nn.Linear(d_model, d_model) # Value transformation\n",
        "        self.W_o = nn.Linear(d_model, d_model) # Output transformation\n",
        "\n",
        "        self.pe = nn.Parameter(torch.randn(self.d_k, max_seq_length)) # Relative position encoding\n",
        "\n",
        "    def scaled_dot_product_attention(self, Q, K, V, pe, mask=None):\n",
        "        # Calculate attention scores\n",
        "        attn_scores = (torch.matmul(Q, K.transpose(-2, -1)) + pe) / math.sqrt(self.d_k)\n",
        "\n",
        "        # Apply mask if provided (useful for preventing attention to certain parts like padding)\n",
        "        if mask is not None:\n",
        "            attn_scores = attn_scores.masked_fill(mask == 0, -1e9)\n",
        "\n",
        "        # Softmax is applied to obtain attention probabilities\n",
        "        attn_probs = torch.softmax(attn_scores, dim=-1)\n",
        "\n",
        "        # Multiply by values to obtain the final output\n",
        "        output = torch.matmul(attn_probs, V)\n",
        "        return output\n",
        "\n",
        "    def split_heads(self, x):\n",
        "        # Reshape the input to have num_heads for multi-head attention\n",
        "        batch_size, seq_length, d_model = x.size()\n",
        "        return x.view(batch_size, seq_length, self.num_heads, self.d_k).transpose(1, 2)\n",
        "\n",
        "    def combine_heads(self, x):\n",
        "        # Combine the multiple heads back to original shape\n",
        "        batch_size, _, seq_length, d_k = x.size()\n",
        "        return x.transpose(1, 2).contiguous().view(batch_size, seq_length, self.d_model)\n",
        "\n",
        "    def forward(self, Q, K, V, mask=None):\n",
        "        # Apply linear transformations and split heads\n",
        "        Q = self.split_heads(self.W_q(Q))\n",
        "        K = self.split_heads(self.W_k(K))\n",
        "        V = self.split_heads(self.W_v(V))\n",
        "        pe = torch.matmul(Q, self.pe[:, self.max_seq_length - K.shape[2]:])\n",
        "\n",
        "        # Perform scaled dot-product attention\n",
        "        attn_output = self.scaled_dot_product_attention(Q, K, V, pe, mask)\n",
        "\n",
        "        # Combine heads and apply output transformation\n",
        "        output = self.W_o(self.combine_heads(attn_output))\n",
        "        return output"
      ]
    },
    {
      "cell_type": "markdown",
      "id": "ee181a7b",
      "metadata": {
        "id": "ee181a7b"
      },
      "source": [
        "### Position-wise FFN"
      ]
    },
    {
      "cell_type": "code",
      "execution_count": 25,
      "id": "10cdd74e",
      "metadata": {
        "id": "10cdd74e"
      },
      "outputs": [],
      "source": [
        "class PositionWiseFeedForward(nn.Module):\n",
        "    def __init__(self, d_model, d_ff):\n",
        "        super(PositionWiseFeedForward, self).__init__()\n",
        "        self.fc1 = nn.Linear(d_model, d_ff)\n",
        "        self.fc2 = nn.Linear(d_ff, d_model)\n",
        "        self.relu = nn.ReLU()\n",
        "\n",
        "    def forward(self, x):\n",
        "        x = self.fc1(x)\n",
        "        x = self.relu(x)\n",
        "        x = self.fc2(x)\n",
        "        return x"
      ]
    },
    {
      "cell_type": "markdown",
      "id": "11dd3d43",
      "metadata": {
        "id": "11dd3d43"
      },
      "source": [
        "### Encoder"
      ]
    },
    {
      "cell_type": "code",
      "execution_count": 26,
      "id": "19c779e3",
      "metadata": {
        "id": "19c779e3"
      },
      "outputs": [],
      "source": [
        "class EncoderLayer(nn.Module):\n",
        "    def __init__(self, d_model, num_heads, d_ff, dropout, max_seq_length):\n",
        "        super(EncoderLayer, self).__init__()\n",
        "        self.self_attn = EncoderMultiHeadAttention(d_model, num_heads, max_seq_length)\n",
        "        self.feed_forward = PositionWiseFeedForward(d_model, d_ff)\n",
        "        self.norm1 = nn.LayerNorm(d_model)\n",
        "        self.norm2 = nn.LayerNorm(d_model)\n",
        "        self.dropout = nn.Dropout(dropout)\n",
        "\n",
        "    def forward(self, x, pos, mask):\n",
        "        attn_output = self.self_attn(x, x, x, pos, mask)\n",
        "        x = self.norm1(x + self.dropout(attn_output))\n",
        "        ff_output = self.feed_forward(x)\n",
        "        x = self.norm2(x + self.dropout(ff_output))\n",
        "        return x"
      ]
    },
    {
      "cell_type": "markdown",
      "id": "c2f8388c",
      "metadata": {
        "id": "c2f8388c"
      },
      "source": [
        "### Decoder"
      ]
    },
    {
      "cell_type": "code",
      "execution_count": 27,
      "id": "9a09adc7",
      "metadata": {
        "id": "9a09adc7"
      },
      "outputs": [],
      "source": [
        "class DecoderLayer(nn.Module):\n",
        "    def __init__(self, d_model, num_heads, d_ff, dropout, max_seq_length):\n",
        "        super(DecoderLayer, self).__init__()\n",
        "        self.self_attn = DecoderMultiHeadAttention(d_model, num_heads, max_seq_length)\n",
        "        self.cross_attn = DecoderMultiHeadAttention(d_model, num_heads, max_seq_length)\n",
        "        self.feed_forward = PositionWiseFeedForward(d_model, d_ff)\n",
        "        self.norm1 = nn.LayerNorm(d_model)\n",
        "        self.norm2 = nn.LayerNorm(d_model)\n",
        "        self.norm3 = nn.LayerNorm(d_model)\n",
        "        self.dropout = nn.Dropout(dropout)\n",
        "\n",
        "    def forward(self, x, enc_output, src_mask, tgt_mask):\n",
        "        attn_output = self.self_attn(x, x, x, tgt_mask)\n",
        "        x = self.norm1(x + self.dropout(attn_output))\n",
        "        attn_output = self.cross_attn(x, enc_output, enc_output, src_mask)\n",
        "        x = self.norm2(x + self.dropout(attn_output))\n",
        "        ff_output = self.feed_forward(x)\n",
        "        x = self.norm3(x + self.dropout(ff_output))\n",
        "        return x"
      ]
    },
    {
      "cell_type": "markdown",
      "id": "d6144a41",
      "metadata": {
        "id": "d6144a41"
      },
      "source": [
        "### Transformer"
      ]
    },
    {
      "cell_type": "code",
      "execution_count": 28,
      "id": "6d73be01",
      "metadata": {
        "id": "6d73be01"
      },
      "outputs": [],
      "source": [
        "class Transformer(nn.Module):\n",
        "    def __init__(self, src_vocab_size, tgt_vocab_size, d_model, num_heads, num_encoder_layers, num_decoder_layers, d_ff, max_seq_length, dropout):\n",
        "        super(Transformer, self).__init__()\n",
        "        self.encoder_embedding = nn.Embedding(src_vocab_size, d_model)\n",
        "        self.decoder_embedding = nn.Embedding(tgt_vocab_size, d_model)\n",
        "\n",
        "        self.encoder_layers = nn.ModuleList([EncoderLayer(d_model, num_heads, d_ff, dropout, max_seq_length) for _ in range(num_encoder_layers)])\n",
        "        self.decoder_layers = nn.ModuleList([DecoderLayer(d_model, num_heads, d_ff, dropout, max_seq_length) for _ in range(num_decoder_layers)])\n",
        "\n",
        "        self.fc = nn.Linear(d_model, tgt_vocab_size)\n",
        "        self.dropout = nn.Dropout(dropout)\n",
        "\n",
        "    def generate_mask(self, src, tgt):\n",
        "        src_mask = (src != 0).unsqueeze(1).unsqueeze(2)\n",
        "        tgt_mask = (tgt != 0).unsqueeze(1).unsqueeze(3)\n",
        "        seq_length = tgt.size(1)\n",
        "        nopeak_mask = (1 - torch.triu(torch.ones(1, seq_length, seq_length), diagonal=1)).bool().to(device)\n",
        "        tgt_mask = tgt_mask & nopeak_mask\n",
        "        return src_mask, tgt_mask\n",
        "\n",
        "    def forward(self, src, pos, tgt):\n",
        "        src_mask, tgt_mask = self.generate_mask(src, tgt)\n",
        "        src_embedded = self.dropout(self.encoder_embedding(src))\n",
        "        tgt_embedded = self.dropout(self.decoder_embedding(tgt))\n",
        "\n",
        "        enc_output = src_embedded\n",
        "        for enc_layer in self.encoder_layers:\n",
        "            enc_output = enc_layer(enc_output, pos, src_mask)\n",
        "\n",
        "        dec_output = tgt_embedded\n",
        "        for dec_layer in self.decoder_layers:\n",
        "            dec_output = dec_layer(dec_output, enc_output, src_mask, tgt_mask)\n",
        "\n",
        "        output = self.fc(dec_output)\n",
        "        return output"
      ]
    },
    {
      "cell_type": "markdown",
      "id": "8397af08",
      "metadata": {
        "id": "8397af08"
      },
      "source": [
        "# Training the model"
      ]
    },
    {
      "cell_type": "code",
      "execution_count": 29,
      "id": "cef242e7",
      "metadata": {
        "id": "cef242e7"
      },
      "outputs": [],
      "source": [
        "d_model = 64\n",
        "num_heads = 4\n",
        "num_encoder_layers = 4\n",
        "num_decoder_layers = 4\n",
        "d_ff = 256\n",
        "dropout = 0.1\n",
        "src_vocab_size = len(embeddings)\n",
        "tgt_vocab_size = len(labels) + 2\n",
        "max_seq_length = 200\n",
        "batch_size = 32\n",
        "\n",
        "transformer = Transformer(src_vocab_size, tgt_vocab_size, d_model,\n",
        "                          num_heads, num_encoder_layers, num_decoder_layers,\n",
        "                          d_ff, max_seq_length, dropout).to(device)\n",
        "\n",
        "criterion = nn.CrossEntropyLoss(ignore_index=0).to(device)\n",
        "optimizer = optim.Adam(transformer.parameters(), lr=0.001, betas=(0.9, 0.98), eps=1e-9)"
      ]
    },
    {
      "cell_type": "code",
      "execution_count": 30,
      "id": "cf886824",
      "metadata": {},
      "outputs": [
        {
          "data": {
            "text/plain": [
              "<All keys matched successfully>"
            ]
          },
          "execution_count": 30,
          "metadata": {},
          "output_type": "execute_result"
        }
      ],
      "source": [
        "transformer.load_state_dict(torch.load('transformer2.sav'))"
      ]
    },
    {
      "cell_type": "code",
      "execution_count": 31,
      "id": "3f32441e",
      "metadata": {
        "id": "3f32441e"
      },
      "outputs": [],
      "source": [
        "def create_dataset(data, maxsize = -1):\n",
        "    emb = data['embeddings']\n",
        "    pos = data['pos']\n",
        "    formula = data['formula']\n",
        "    if maxsize == -1:\n",
        "        maxsize = len(emb)\n",
        "    tmp_emb = []\n",
        "    tmp_pos = []\n",
        "    tmp_formula = []\n",
        "    for i in range(maxsize):\n",
        "        if len(emb[i]) > max_seq_length or len(formula[i]) > max_seq_length:\n",
        "            continue\n",
        "        tmp_emb.append([emb[i][j][0] if j < len(emb[i]) else 0 for j in range(max_seq_length)])\n",
        "        minx = 1000000\n",
        "        miny = 1000000\n",
        "        for p in pos[i]:\n",
        "            minx = min(minx, p[0])\n",
        "            miny = min(miny, p[1])\n",
        "        dak = [[x[0] - minx, x[1] - miny, x[2] - minx, x[3] - miny] for x in pos[i]]\n",
        "        dak = dak + [[-1000000] * 4] * (max_seq_length - len(dak))\n",
        "        tmp_pos.append(dak)\n",
        "        tmp_formula.append(formula[i] + [len(labels) + 1] * (max_seq_length - len(formula[i])))\n",
        "    emb = torch.tensor(tmp_emb)\n",
        "    pos = torch.tensor(tmp_pos, dtype=torch.float)\n",
        "    formula = torch.tensor(tmp_formula)\n",
        "    return emb, pos, formula"
      ]
    },
    {
      "cell_type": "code",
      "execution_count": 32,
      "id": "lw8dkrjU2oAT",
      "metadata": {
        "id": "lw8dkrjU2oAT"
      },
      "outputs": [],
      "source": [
        "src_data, pos_data, tgt_data = create_dataset(train)"
      ]
    },
    {
      "cell_type": "code",
      "execution_count": 33,
      "id": "e9bdab4f",
      "metadata": {
        "id": "e9bdab4f"
      },
      "outputs": [],
      "source": [
        "test1, test2, test3 = create_dataset(test)\n",
        "src_data = torch.concatenate([src_data, test1])\n",
        "pos_data = torch.concatenate([pos_data, test2])\n",
        "tgt_data = torch.concatenate([tgt_data, test3])\n",
        "data_loader = data.DataLoader(data.TensorDataset(src_data, pos_data, tgt_data), batch_size=batch_size, shuffle=True)"
      ]
    },
    {
      "cell_type": "code",
      "execution_count": 35,
      "id": "f6121b52",
      "metadata": {
        "colab": {
          "base_uri": "https://localhost:8080/"
        },
        "collapsed": true,
        "id": "f6121b52",
        "outputId": "b23840c1-4b94-4d77-fa1d-0c5551efefac"
      },
      "outputs": [
        {
          "name": "stdout",
          "output_type": "stream",
          "text": [
            "Start training...\n",
            "Processed 0 / 2671\n",
            "Processed 1000 / 2671\n",
            "Processed 2000 / 2671\n",
            "Epoch: 1, Loss: 0.19671328705276991\n",
            "Processed 0 / 2671\n",
            "Processed 1000 / 2671\n",
            "Processed 2000 / 2671\n",
            "Epoch: 2, Loss: 0.1882392020483938\n",
            "Processed 0 / 2671\n",
            "Processed 1000 / 2671\n",
            "Processed 2000 / 2671\n",
            "Epoch: 3, Loss: 0.18171641310082084\n",
            "Processed 0 / 2671\n",
            "Processed 1000 / 2671\n",
            "Processed 2000 / 2671\n",
            "Epoch: 4, Loss: 0.17566561233077949\n",
            "Processed 0 / 2671\n",
            "Processed 1000 / 2671\n",
            "Processed 2000 / 2671\n",
            "Epoch: 5, Loss: 0.17086950429857825\n",
            "Processed 0 / 2671\n",
            "Processed 1000 / 2671\n",
            "Processed 2000 / 2671\n",
            "Epoch: 6, Loss: 0.16663410639838752\n",
            "Processed 0 / 2671\n",
            "Processed 1000 / 2671\n",
            "Processed 2000 / 2671\n",
            "Epoch: 7, Loss: 0.16294674389552463\n",
            "Processed 0 / 2671\n",
            "Processed 1000 / 2671\n",
            "Processed 2000 / 2671\n",
            "Epoch: 8, Loss: 0.15989269395695335\n",
            "Processed 0 / 2671\n",
            "Processed 1000 / 2671\n",
            "Processed 2000 / 2671\n",
            "Epoch: 9, Loss: 0.15736571426853085\n",
            "Processed 0 / 2671\n",
            "Processed 1000 / 2671\n",
            "Processed 2000 / 2671\n",
            "Epoch: 10, Loss: 0.1541991470341868\n",
            "Processed 0 / 2671\n",
            "Processed 1000 / 2671\n",
            "Processed 2000 / 2671\n",
            "Epoch: 11, Loss: 0.15205104884774173\n",
            "Processed 0 / 2671\n",
            "Processed 1000 / 2671\n",
            "Processed 2000 / 2671\n",
            "Epoch: 12, Loss: 0.1495208935690078\n",
            "Processed 0 / 2671\n",
            "Processed 1000 / 2671\n",
            "Processed 2000 / 2671\n",
            "Epoch: 13, Loss: 0.1476707307197145\n",
            "Processed 0 / 2671\n",
            "Processed 1000 / 2671\n",
            "Processed 2000 / 2671\n",
            "Epoch: 14, Loss: 0.14533476061485806\n",
            "Processed 0 / 2671\n",
            "Processed 1000 / 2671\n",
            "Processed 2000 / 2671\n",
            "Epoch: 15, Loss: 0.143815186015567\n",
            "Processed 0 / 2671\n",
            "Processed 1000 / 2671\n",
            "Processed 2000 / 2671\n",
            "Epoch: 16, Loss: 0.1419005909023192\n",
            "Processed 0 / 2671\n",
            "Processed 1000 / 2671\n",
            "Processed 2000 / 2671\n",
            "Epoch: 17, Loss: 0.14039808296110692\n",
            "Processed 0 / 2671\n",
            "Processed 1000 / 2671\n",
            "Processed 2000 / 2671\n",
            "Epoch: 18, Loss: 0.1390202625615237\n",
            "Processed 0 / 2671\n"
          ]
        },
        {
          "ename": "KeyboardInterrupt",
          "evalue": "",
          "output_type": "error",
          "traceback": [
            "\u001b[31m---------------------------------------------------------------------------\u001b[39m",
            "\u001b[31mKeyboardInterrupt\u001b[39m                         Traceback (most recent call last)",
            "\u001b[36mCell\u001b[39m\u001b[36m \u001b[39m\u001b[32mIn[35]\u001b[39m\u001b[32m, line 10\u001b[39m\n\u001b[32m      8\u001b[39m \u001b[38;5;28;01mif\u001b[39;00m i % \u001b[32m1000\u001b[39m == \u001b[32m0\u001b[39m: \u001b[38;5;28mprint\u001b[39m(\u001b[33m'\u001b[39m\u001b[33mProcessed\u001b[39m\u001b[33m'\u001b[39m, i, \u001b[33m'\u001b[39m\u001b[33m/\u001b[39m\u001b[33m'\u001b[39m, \u001b[38;5;28mlen\u001b[39m(data_loader))\n\u001b[32m      9\u001b[39m optimizer.zero_grad()\n\u001b[32m---> \u001b[39m\u001b[32m10\u001b[39m src_data = \u001b[43msrc_data\u001b[49m\u001b[43m.\u001b[49m\u001b[43mto\u001b[49m\u001b[43m(\u001b[49m\u001b[43mdevice\u001b[49m\u001b[43m)\u001b[49m\n\u001b[32m     11\u001b[39m pos_data = pos_data.to(device)\n\u001b[32m     12\u001b[39m tgt_data = tgt_data.to(device) \n",
            "\u001b[31mKeyboardInterrupt\u001b[39m: "
          ]
        }
      ],
      "source": [
        "print('Start training...')\n",
        "\n",
        "transformer.train()\n",
        "\n",
        "for epoch in range(100):\n",
        "    sum_loss = 0\n",
        "    for i, (src_data, pos_data, tgt_data) in enumerate(data_loader):\n",
        "        if i % 1000 == 0: print('Processed', i, '/', len(data_loader))\n",
        "        optimizer.zero_grad()\n",
        "        src_data = src_data.to(device)\n",
        "        pos_data = pos_data.to(device)\n",
        "        tgt_data = tgt_data.to(device) \n",
        "\n",
        "        output = transformer(src_data, pos_data, tgt_data[:, :-1])\n",
        "        loss = criterion(output.contiguous().view(-1, tgt_vocab_size), tgt_data[:, 1:].contiguous().view(-1))\n",
        "        sum_loss += loss.item()\n",
        "        loss.backward()\n",
        "        optimizer.step()\n",
        "\n",
        "    print(f\"Epoch: {epoch+1}, Loss: {sum_loss / len(data_loader)}\")\n",
        "    torch.save(transformer.state_dict(), 'transformer' + str(sum_loss / len(data_loader)) + '.sav')"
      ]
    },
    {
      "cell_type": "code",
      "execution_count": null,
      "id": "4d755ab8",
      "metadata": {},
      "outputs": [],
      "source": [
        "torch.save(transformer.state_dict(), 'transformer.sav')"
      ]
    },
    {
      "cell_type": "code",
      "execution_count": null,
      "id": "c18b7f7f",
      "metadata": {
        "colab": {
          "base_uri": "https://localhost:8080/"
        },
        "id": "c18b7f7f",
        "outputId": "33ffa48e-d601-429b-ebd9-751d30f4b319"
      },
      "outputs": [
        {
          "name": "stdout",
          "output_type": "stream",
          "text": [
            "model output: = - \\frac { 1 } { 2 } \\sum _ { i , i } S _ { i j } \\vec { S } _ { i j S { S } _ { j } S , \n",
            "answer: V = - \\frac { 1 } { 2 } \\sum _ { i , j } v _ { i j } \\vec { S } _ { i } . \\vec { S } _ { j } \\, , "
          ]
        }
      ],
      "source": [
        "def predict(id):\n",
        "    with torch.no_grad():\n",
        "        output = transformer(src_data[id:id+1].to(device), pos_data[id:id+1].to(device), tgt_data[id:id+1,:-1].to(device)).to(device)\n",
        "        loss = criterion(output.contiguous().view(-1, tgt_vocab_size).to(device), tgt_data[id:id+1,1:].contiguous().view(-1).to(device))\n",
        "        output = output[0]\n",
        "        ans = []\n",
        "        for i in range(len(output)):\n",
        "            ans.append(torch.argmax(output[i]))\n",
        "        ans = torch.tensor(ans)\n",
        "\n",
        "        print('model output:', end=' ')\n",
        "        for x in ans:\n",
        "            if x == len(labels) + 1: continue\n",
        "            print(labels[x - 1], end=' ')\n",
        "        print()\n",
        "\n",
        "        print('answer:', end=' ')\n",
        "        for x in tgt_data[0]:\n",
        "            if x == len(labels) + 1: continue\n",
        "            print(labels[x - 1], end=' ')\n",
        "\n",
        "predict(0)"
      ]
    }
  ],
  "metadata": {
    "accelerator": "GPU",
    "colab": {
      "collapsed_sections": [
        "60a6dcdf",
        "4807bbb3",
        "ee181a7b",
        "11dd3d43",
        "c2f8388c",
        "d6144a41"
      ],
      "gpuType": "T4",
      "provenance": []
    },
    "kernelspec": {
      "display_name": "conda-env",
      "language": "python",
      "name": "python3"
    },
    "language_info": {
      "codemirror_mode": {
        "name": "ipython",
        "version": 3
      },
      "file_extension": ".py",
      "mimetype": "text/x-python",
      "name": "python",
      "nbconvert_exporter": "python",
      "pygments_lexer": "ipython3",
      "version": "3.12.9"
    }
  },
  "nbformat": 4,
  "nbformat_minor": 5
}
