{
  "cells": [
    {
      "cell_type": "markdown",
      "metadata": {
        "id": "0U4DA_YN27aE"
      },
      "source": [
        "# Load dataset"
      ]
    },
    {
      "cell_type": "code",
      "execution_count": 2,
      "metadata": {
        "colab": {
          "base_uri": "https://localhost:8080/"
        },
        "collapsed": true,
        "id": "X28_vdiicZOY",
        "outputId": "98c9f660-eb2e-47eb-bd5b-c2c664e506db"
      },
      "outputs": [
        {
          "name": "stderr",
          "output_type": "stream",
          "text": [
            "/users/eleves-b/2024/ivan.tran/mathwriting/venv/lib64/python3.9/site-packages/tqdm/auto.py:21: TqdmWarning: IProgress not found. Please update jupyter and ipywidgets. See https://ipywidgets.readthedocs.io/en/stable/user_install.html\n",
            "  from .autonotebook import tqdm as notebook_tqdm\n"
          ]
        }
      ],
      "source": [
        "import datasets\n",
        "\n",
        "# google colab\n",
        "\n",
        "# from google.colab import drive\n",
        "\n",
        "# drive.mount('/content/drive')\n",
        "\n",
        "# !unzip \"/content/drive/MyDrive/AI/datasets/single character/dataset.zip\" -d \"/content\"\n",
        "# data = pd.read_csv(\"/content/drive/MyDrive/AI/datasets/single character/dataset.csv\")\n",
        "# labels = pd.read_csv(\"/content/drive/MyDrive/AI/datasets/single character/labels.csv\")\n",
        "\n",
        "# !unzip -qq dataset.zip\n",
        "# ds = datasets.load_from_disk('dataset')\n",
        "\n",
        "# local\n",
        "    # handwriting\n",
        "    \n",
        "# !unzip -qq dataset.zip\n",
        "# ds = datasets.load_from_disk('datasets/hand_writing/dataset')\n",
        "\n",
        "    # latex generated\n",
        "\n",
        "ds = datasets.load_from_disk('../data generating/dataset')    "
      ]
    },
    {
      "cell_type": "code",
      "execution_count": 3,
      "metadata": {},
      "outputs": [
        {
          "data": {
            "text/html": [
              "<div>\n",
              "<style scoped>\n",
              "    .dataframe tbody tr th:only-of-type {\n",
              "        vertical-align: middle;\n",
              "    }\n",
              "\n",
              "    .dataframe tbody tr th {\n",
              "        vertical-align: top;\n",
              "    }\n",
              "\n",
              "    .dataframe thead th {\n",
              "        text-align: right;\n",
              "    }\n",
              "</style>\n",
              "<table border=\"1\" class=\"dataframe\">\n",
              "  <thead>\n",
              "    <tr style=\"text-align: right;\">\n",
              "      <th></th>\n",
              "      <th>Unnamed: 0</th>\n",
              "      <th>0</th>\n",
              "    </tr>\n",
              "  </thead>\n",
              "  <tbody>\n",
              "    <tr>\n",
              "      <th>0</th>\n",
              "      <td>0</td>\n",
              "      <td>b</td>\n",
              "    </tr>\n",
              "    <tr>\n",
              "      <th>1</th>\n",
              "      <td>1</td>\n",
              "      <td>V</td>\n",
              "    </tr>\n",
              "    <tr>\n",
              "      <th>2</th>\n",
              "      <td>2</td>\n",
              "      <td>d</td>\n",
              "    </tr>\n",
              "    <tr>\n",
              "      <th>3</th>\n",
              "      <td>3</td>\n",
              "      <td>\\overline</td>\n",
              "    </tr>\n",
              "    <tr>\n",
              "      <th>4</th>\n",
              "      <td>4</td>\n",
              "      <td>n</td>\n",
              "    </tr>\n",
              "    <tr>\n",
              "      <th>...</th>\n",
              "      <td>...</td>\n",
              "      <td>...</td>\n",
              "    </tr>\n",
              "    <tr>\n",
              "      <th>224</th>\n",
              "      <td>224</td>\n",
              "      <td>\\vdots</td>\n",
              "    </tr>\n",
              "    <tr>\n",
              "      <th>225</th>\n",
              "      <td>225</td>\n",
              "      <td>\\rightleftharpoons</td>\n",
              "    </tr>\n",
              "    <tr>\n",
              "      <th>226</th>\n",
              "      <td>226</td>\n",
              "      <td>\\top</td>\n",
              "    </tr>\n",
              "    <tr>\n",
              "      <th>227</th>\n",
              "      <td>227</td>\n",
              "      <td>\\upsilon</td>\n",
              "    </tr>\n",
              "    <tr>\n",
              "      <th>228</th>\n",
              "      <td>228</td>\n",
              "      <td>\\vartheta</td>\n",
              "    </tr>\n",
              "  </tbody>\n",
              "</table>\n",
              "<p>229 rows × 2 columns</p>\n",
              "</div>"
            ],
            "text/plain": [
              "     Unnamed: 0                   0\n",
              "0             0                   b\n",
              "1             1                   V\n",
              "2             2                   d\n",
              "3             3           \\overline\n",
              "4             4                   n\n",
              "..          ...                 ...\n",
              "224         224              \\vdots\n",
              "225         225  \\rightleftharpoons\n",
              "226         226                \\top\n",
              "227         227            \\upsilon\n",
              "228         228           \\vartheta\n",
              "\n",
              "[229 rows x 2 columns]"
            ]
          },
          "execution_count": 3,
          "metadata": {},
          "output_type": "execute_result"
        }
      ],
      "source": [
        "import pandas as pd\n",
        "\n",
        "labels = pd.read_csv('../data generating/labels.csv')\n",
        "label_id = {}\n",
        "for i, label in enumerate(labels['0']):\n",
        "    label_id[label] = i\n",
        "\n",
        "labels"
      ]
    },
    {
      "cell_type": "code",
      "execution_count": 15,
      "metadata": {},
      "outputs": [
        {
          "data": {
            "image/png": "[encoded data removed]",
            "text/plain": [
              "<PIL.PngImagePlugin.PngImageFile image mode=RGBA size=61x58>"
            ]
          },
          "execution_count": 15,
          "metadata": {},
          "output_type": "execute_result"
        }
      ],
      "source": [
        "ds['train'][420]['input']"
      ]
    },
    {
      "cell_type": "markdown",
      "metadata": {
        "id": "ScBxP6bk3M4E"
      },
      "source": [
        "# Resize images"
      ]
    },
    {
      "cell_type": "code",
      "execution_count": 13,
      "metadata": {},
      "outputs": [],
      "source": [
        "import numpy as np\n",
        "import random\n",
        "\n",
        "def add_random_noise(image):\n",
        "    noise_type = random.choice([\"gaussian\", \"salt_pepper\", \"speckle\"])\n",
        "    \n",
        "    if noise_type == \"gaussian\":\n",
        "        mean = 0\n",
        "        stddev = 0.1  # Adjust noise level\n",
        "        gaussian_noise = np.random.normal(mean, stddev, image.shape)\n",
        "        noisy_image = np.clip(image + gaussian_noise, 0, 1)\n",
        "    \n",
        "    elif noise_type == \"salt_pepper\":\n",
        "        amount = 0.05  # Adjust noise density\n",
        "        noisy_image = np.copy(image)\n",
        "        num_salt = np.ceil(amount * image.size * 0.5).astype(int)\n",
        "        num_pepper = np.ceil(amount * image.size * 0.5).astype(int)\n",
        "        \n",
        "        # Add salt\n",
        "        coords = [np.random.randint(0, i, num_salt) for i in image.shape]\n",
        "        noisy_image[coords[0], coords[1]] = 1\n",
        "        \n",
        "        # Add pepper\n",
        "        coords = [np.random.randint(0, i, num_pepper) for i in image.shape]\n",
        "        noisy_image[coords[0], coords[1]] = 0\n",
        "    \n",
        "    elif noise_type == \"speckle\":\n",
        "        noise = np.random.randn(*image.shape) * 0.1  # Adjust noise level\n",
        "        noisy_image = np.clip(image + image * noise, 0, 1)\n",
        "    \n",
        "    return noisy_image"
      ]
    },
    {
      "cell_type": "code",
      "execution_count": null,
      "metadata": {
        "id": "NeAs7m2JnCVJ"
      },
      "outputs": [],
      "source": [
        "import skimage.transform as sk\n",
        "import numpy as np\n",
        "\n",
        "new_shape = (40, 40)\n",
        "def scale_input(data):\n",
        "    input, output = data['input'], data['label']\n",
        "    input = sk.resize(np.array(input), new_shape, mode='reflect', anti_aliasing=True)\n",
        "    input = np.array([[(1 - sum(input[i][j]) / 4) for j in range(new_shape[1])] for i in range(new_shape[0])])\n",
        "    input = add_random_noise(input)\n",
        "    output = label_id[output]\n",
        "    return {'input': input, 'label': output}\n",
        "\n",
        "train = [scale_input(ds['train'][i]) for i in range(len(ds['train']))]\n",
        "test = [scale_input(ds['test'][i]) for i in range(len(ds['test']))]"
      ]
    },
    {
      "cell_type": "code",
      "execution_count": null,
      "metadata": {},
      "outputs": [],
      "source": [
        "def image_print(img, tab):\n",
        "    display(img)\n",
        "    for r in tab:\n",
        "        for c in r:\n",
        "            if c < 0.2: print(' ', end='')\n",
        "            elif c < 0.4: print('.', end='')\n",
        "            elif c < 0.6: print('o', end='')\n",
        "            elif c < 0.6: print('O', end='')\n",
        "            else: print('@', end='')\n",
        "        print()\n",
        "    \n",
        "image_print(ds['train'][0]['input'], train[0]['input'])\n",
        "image_print(ds['train'][1]['input'], train[1]['input'])\n",
        "image_print(ds['train'][2]['input'], train[2]['input'])"
      ]
    },
    {
      "cell_type": "markdown",
      "metadata": {
        "id": "IfglJ7lJjVws"
      },
      "source": [
        "# Train"
      ]
    },
    {
      "cell_type": "code",
      "execution_count": 18,
      "metadata": {
        "colab": {
          "base_uri": "https://localhost:8080/"
        },
        "id": "9MA58OYDjf07",
        "outputId": "5ab6dacf-5ee8-4b51-beee-c1e7ad762161"
      },
      "outputs": [
        {
          "name": "stdout",
          "output_type": "stream",
          "text": [
            "Epoch [1/3], Step [1/157], Loss: 5.4382\n",
            "Epoch [1/3], Step [101/157], Loss: 0.3740\n",
            "Epoch 1: Average Loss: 0.0237, Accuracy: 0.9980\n",
            "Epoch [2/3], Step [1/157], Loss: 0.0337\n",
            "Epoch [2/3], Step [101/157], Loss: 0.0080\n",
            "Epoch 2: Average Loss: 0.0094, Accuracy: 0.9990\n",
            "Epoch [3/3], Step [1/157], Loss: 0.0059\n",
            "Epoch [3/3], Step [101/157], Loss: 0.0006\n",
            "Epoch 3: Average Loss: 0.0009, Accuracy: 1.0000\n"
          ]
        }
      ],
      "source": [
        "import torch\n",
        "import torch.nn as nn\n",
        "import torch.optim as optim\n",
        "from torch.utils.data import DataLoader, TensorDataset\n",
        "\n",
        "device = torch.device(\"cuda\" if torch.cuda.is_available() else \"cpu\")\n",
        "\n",
        "# Hyperparameters\n",
        "input_channels = 1  # 1 for grayscale, 3 for RGB\n",
        "image_size = 40\n",
        "hidden_size = 512\n",
        "output_size = 229\n",
        "learning_rate = 0.001\n",
        "batch_size = 64\n",
        "num_epochs = 3\n",
        "\n",
        "# Define the CNN model\n",
        "class CNN(nn.Module):\n",
        "    def __init__(self, input_channels, hidden_size, output_size):\n",
        "        super(CNN, self).__init__()\n",
        "\n",
        "        # Convolutional layers\n",
        "        self.conv1 = nn.Conv2d(input_channels, 32, kernel_size=3, stride=1, padding=1)  # (40x40) -> (40x40)\n",
        "        self.pool1 = nn.MaxPool2d(kernel_size=2, stride=2)  # (40x40) -> (20x20)\n",
        "        self.conv2 = nn.Conv2d(32, 64, kernel_size=3, stride=1, padding=1)  # (20x20) -> (20x20)\n",
        "        self.pool2 = nn.MaxPool2d(kernel_size=2, stride=2)  # (20x20) -> (10x10)\n",
        "        self.conv3 = nn.Conv2d(64, 128, kernel_size=3, stride=1, padding=1)  # (20x20) -> (20x20)\n",
        "        self.pool3 = nn.MaxPool2d(kernel_size=2, stride=2)  # (10x10) -> (5x5)\n",
        "\n",
        "        # Fully connected layers\n",
        "        self.fc1 = nn.Linear(32*10*10, hidden_size)  # Flattened size\n",
        "        self.relu = nn.ReLU()\n",
        "        self.fc2 = nn.Linear(hidden_size, output_size)\n",
        "\n",
        "    def forward(self, x):\n",
        "        x = self.pool1(torch.relu(self.conv1(x)))  # Conv1 -> ReLU -> Pool\n",
        "        x = self.pool2(torch.relu(self.conv2(x)))  # Conv2 -> ReLU -> Pool\n",
        "        x = self.pool3(torch.relu(self.conv3(x)))  # Conv3 -> ReLU -> Pool\n",
        "        x = x.view(x.size(0), -1)  # Flatten\n",
        "        x = torch.relu(self.fc1(x))  # Fully connected\n",
        "        x = self.fc2(x)  # Output layer\n",
        "        return x\n",
        "\n",
        "# Initialize model\n",
        "model = CNN(input_channels, hidden_size, output_size).to(device)\n",
        "\n",
        "# Loss and optimizer\n",
        "criterion = nn.CrossEntropyLoss()\n",
        "optimizer = optim.Adam(model.parameters(), lr=learning_rate)\n",
        "\n",
        "# Prepare dataset (reshape to 40x40 for CNN)\n",
        "X_train = torch.stack([torch.tensor(data['input'], dtype=torch.float32).reshape(1, image_size, image_size) for data in train]).to(device)\n",
        "y_train = torch.tensor([data['label'] for data in train], dtype=torch.long).to(device)\n",
        "\n",
        "train_dataset = TensorDataset(X_train, y_train)\n",
        "train_loader = DataLoader(train_dataset, batch_size=batch_size, shuffle=True)\n",
        "\n",
        "X_test = torch.stack([torch.tensor(data['input'], dtype=torch.float32).reshape(1, image_size, image_size) for data in test]).to(device)\n",
        "y_test = torch.tensor([data['label'] for data in test], dtype=torch.long).to(device)\n",
        "\n",
        "# Training loop\n",
        "for epoch in range(num_epochs):\n",
        "    model.train()\n",
        "    for batch_idx, (inputs, targets) in enumerate(train_loader):\n",
        "        outputs = model(inputs)\n",
        "        loss = criterion(outputs, targets)\n",
        "        optimizer.zero_grad()\n",
        "        loss.backward()\n",
        "        optimizer.step()\n",
        "\n",
        "        if batch_idx % 100 == 0:\n",
        "            print(f\"Epoch [{epoch+1}/{num_epochs}], Step [{batch_idx+1}/{len(train_loader)}], Loss: {loss.item():.4f}\")\n",
        "\n",
        "    # Validation\n",
        "    model.eval()\n",
        "    with torch.no_grad():\n",
        "        correct = 0\n",
        "        total = len(test)\n",
        "        sum_loss = 0\n",
        "\n",
        "        for i in range(total):\n",
        "            output = model(X_test[i].unsqueeze(0))  # Add batch dimension\n",
        "            predicted = torch.argmax(output, dim=1).item()\n",
        "\n",
        "            if predicted == y_test[i].item():\n",
        "                correct += 1\n",
        "\n",
        "            sum_loss += criterion(output, y_test[i].unsqueeze(0)).item()\n",
        "\n",
        "        avg_loss = sum_loss / total\n",
        "        accuracy = correct / total\n",
        "\n",
        "        print(f\"Epoch {epoch+1}: Average Loss: {avg_loss:.4f}, Accuracy: {accuracy:.4f}\")"
      ]
    },
    {
      "cell_type": "code",
      "execution_count": 19,
      "metadata": {},
      "outputs": [],
      "source": [
        "# save model\n",
        "\n",
        "torch.save(model.state_dict(), 'single_character.pth')"
      ]
    },
    {
      "cell_type": "code",
      "execution_count": null,
      "metadata": {},
      "outputs": [],
      "source": [
        "# load model\n",
        "\n",
        "test_model = CNN(input_channels, hidden_size, output_size)\n",
        "test_model.load_state_dict(torch.load('single_character.pth'))\n",
        "model.eval()"
      ]
    }
  ],
  "metadata": {
    "accelerator": "GPU",
    "colab": {
      "gpuType": "T4",
      "provenance": []
    },
    "kernelspec": {
      "display_name": "venv",
      "language": "python",
      "name": "python3"
    },
    "language_info": {
      "codemirror_mode": {
        "name": "ipython",
        "version": 3
      },
      "file_extension": ".py",
      "mimetype": "text/x-python",
      "name": "python",
      "nbconvert_exporter": "python",
      "pygments_lexer": "ipython3",
      "version": "3.9.21"
    }
  },
  "nbformat": 4,
  "nbformat_minor": 0
}
