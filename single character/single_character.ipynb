{
  "cells": [
    {
      "cell_type": "markdown",
      "metadata": {
        "id": "0U4DA_YN27aE"
      },
      "source": [
        "# Load dataset"
      ]
    },
    {
      "cell_type": "code",
      "execution_count": null,
      "metadata": {
        "colab": {
          "base_uri": "https://localhost:8080/"
        },
        "collapsed": true,
        "id": "X28_vdiicZOY",
        "outputId": "98c9f660-eb2e-47eb-bd5b-c2c664e506db"
      },
      "outputs": [],
      "source": [
        "import datasets\n",
        "\n",
        "# google colab\n",
        "\n",
        "# from google.colab import drive\n",
        "\n",
        "# drive.mount('/content/drive')\n",
        "\n",
        "# !unzip \"/content/drive/MyDrive/AI/datasets/single character/dataset.zip\" -d \"/content\"\n",
        "# data = pd.read_csv(\"/content/drive/MyDrive/AI/datasets/single character/dataset.csv\")\n",
        "# labels = pd.read_csv(\"/content/drive/MyDrive/AI/datasets/single character/labels.csv\")\n",
        "\n",
        "# !unzip -qq dataset.zip\n",
        "# ds = datasets.load_from_disk('dataset')\n",
        "\n",
        "# local\n",
        "    # handwriting\n",
        "    \n",
        "# !unzip -qq dataset.zip\n",
        "# ds = datasets.load_from_disk('datasets/hand_writing/dataset')\n",
        "\n",
        "    # latex generated\n",
        "\n",
        "ds = datasets.load_from_disk('datasets/latex_generated/dataset')    "
      ]
    },
    {
      "cell_type": "code",
      "execution_count": null,
      "metadata": {},
      "outputs": [],
      "source": [
        "import pandas as pd\n",
        "\n",
        "labels = pd.read_csv('datasets/latex_generated/labels.csv')\n",
        "label_id = {}\n",
        "for i, label in enumerate(labels['0']):\n",
        "    label_id[label] = i"
      ]
    },
    {
      "cell_type": "markdown",
      "metadata": {
        "id": "ScBxP6bk3M4E"
      },
      "source": [
        "# Resize images"
      ]
    },
    {
      "cell_type": "code",
      "execution_count": null,
      "metadata": {},
      "outputs": [],
      "source": [
        "import numpy as np\n",
        "import random\n",
        "\n",
        "def add_random_noise(image):\n",
        "    noise_type = random.choice([\"gaussian\", \"salt_pepper\", \"speckle\"])\n",
        "    \n",
        "    if noise_type == \"gaussian\":\n",
        "        mean = 0\n",
        "        stddev = 1  # Adjust noise level\n",
        "        gaussian_noise = np.random.normal(mean, stddev, image.shape)\n",
        "        noisy_image = np.clip(image + gaussian_noise, 0, 1)\n",
        "    \n",
        "    elif noise_type == \"salt_pepper\":\n",
        "        amount = 0.5  # Adjust noise density\n",
        "        noisy_image = np.copy(image)\n",
        "        num_salt = np.ceil(amount * image.size * 0.5).astype(int)\n",
        "        num_pepper = np.ceil(amount * image.size * 0.5).astype(int)\n",
        "        \n",
        "        # Add salt\n",
        "        coords = [np.random.randint(0, i, num_salt) for i in image.shape]\n",
        "        noisy_image[coords[0], coords[1]] = 1\n",
        "        \n",
        "        # Add pepper\n",
        "        coords = [np.random.randint(0, i, num_pepper) for i in image.shape]\n",
        "        noisy_image[coords[0], coords[1]] = 0\n",
        "    \n",
        "    elif noise_type == \"speckle\":\n",
        "        noise = np.random.randn(*image.shape) * 0.5  # Adjust noise level\n",
        "        noisy_image = np.clip(image + image * noise, 0, 1)\n",
        "    \n",
        "    return noisy_image"
      ]
    },
    {
      "cell_type": "code",
      "execution_count": 51,
      "metadata": {
        "id": "NeAs7m2JnCVJ"
      },
      "outputs": [],
      "source": [
        "import skimage.transform as sk\n",
        "import numpy as np\n",
        "\n",
        "new_shape = (40, 40)\n",
        "def scale_input(data):\n",
        "    input, output = data['input'], data['label']\n",
        "    input = sk.resize(np.array(input), new_shape, mode='reflect', anti_aliasing=True)\n",
        "    input = np.array([[(1 - sum(input[i][j]) / 4) for j in range(new_shape[1])] for i in range(new_shape[0])])\n",
        "    input = add_random_noise(input)\n",
        "    output = label_id[output]\n",
        "    return {'input': input, 'label': output}\n",
        "\n",
        "train = [scale_input(ds['train'][i]) for i in range(len(ds['train']))]\n",
        "test = [scale_input(ds['test'][i]) for i in range(len(ds['test']))]"
      ]
    },
    {
      "cell_type": "code",
      "execution_count": 52,
      "metadata": {},
      "outputs": [
        {
          "data": {
            "image/png": "[encoded data removed]",
            "text/plain": [
              "<PIL.PngImagePlugin.PngImageFile image mode=RGBA size=58x74>"
            ]
          },
          "metadata": {},
          "output_type": "display_data"
        },
        {
          "name": "stdout",
          "output_type": "stream",
          "text": [
            "                                        \n",
            "        @                               \n",
            "     @  @                               \n",
            "                o@o     o@@@@@.         \n",
            "             o@@@@.   o@@@@@@@@@o       \n",
            "           o@@@@@@   o@@@@@@@@@@@o      \n",
            "           @@@@@@o  o@@@@@.o@@@@@@o     \n",
            "        .@@@@@@o   .@@@@@   .@@@@ @.    \n",
            "       .@@@@@@.    o@@@@.    .@@@@@@    \n",
            "       @@@@@@      @@@@@      o@@@@@    \n",
            "      o@@@@@.     .@@@ o      o@@@@@.   \n",
            "     . @ @@o      .@@@@o      .@@@@@.   \n",
            "     o@@@@@       o@@@@.      .@@@@@.   \n",
            "     @@@@@.       @@@@@       .@@@  @   \n",
            "    .@@@@@        @@@@@       .@@@@@    \n",
            "    o@@@@o       .@@@@o       o@@@@@    \n",
            "    @@@@@o       @@@@@.       @@@@@o    \n",
            "    @@@@@.       @@@@@        @@@@@     \n",
            "   .@@@@@.      .@@@@@    @  .@@@ o     \n",
            "   .@@@@@.@     .@@@@o       @@@@@.     \n",
            "    @@@@@.      o@@@@.      o@@@@@      \n",
            "    @@@@@o      @@@@@      .@@@@@       \n",
            "    @@@@@@      @@@@@     .@@@@@.       \n",
            "   @.@@@@@@    .@@@@o    o@@@@@o        \n",
            "     o@@@@@@.  o@@@@o  o@@@@@@.         \n",
            "      @@@@@@@@@@@@@@@@@@@@@@@.          \n",
            "       o@@@@@@@@@@@@@@@@@@@o            \n",
            "        .@@@@@@@@@@@@@@@@o              \n",
            "           .oo@@@@@ooo.                 \n",
            "       @      @@@@@                     \n",
            "              @@@@@                     \n",
            "             .@@@@o@  @   @             \n",
            "             o@@@@.                     \n",
            "             @@@@@                      \n",
            "            .@@@@@                      \n",
            "            .@@@@o                      \n",
            "            o@@@@.                      \n",
            "                                        \n",
            "                       @                \n",
            "                               @        \n"
          ]
        }
      ],
      "source": [
        "display(ds['train'][0]['input'])\n",
        "for r in train[0]['input']:\n",
        "    for c in r:\n",
        "        if c < 0.2: print(' ', end='')\n",
        "        elif c < 0.4: print('.', end='')\n",
        "        elif c < 0.6: print('o', end='')\n",
        "        elif c < 0.6: print('O', end='')\n",
        "        else: print('@', end='')\n",
        "    print()"
      ]
    },
    {
      "cell_type": "markdown",
      "metadata": {
        "id": "IfglJ7lJjVws"
      },
      "source": [
        "# Train"
      ]
    },
    {
      "cell_type": "code",
      "execution_count": 53,
      "metadata": {
        "colab": {
          "base_uri": "https://localhost:8080/"
        },
        "id": "9MA58OYDjf07",
        "outputId": "5ab6dacf-5ee8-4b51-beee-c1e7ad762161"
      },
      "outputs": [
        {
          "name": "stdout",
          "output_type": "stream",
          "text": [
            "Epoch [1/10], Step [1/157], Loss: 5.4384\n",
            "Epoch [1/10], Step [101/157], Loss: 0.1146\n",
            "Epoch 1: Average Loss: 0.0386, Accuracy: 0.9880\n",
            "Epoch [2/10], Step [1/157], Loss: 0.0838\n",
            "Epoch [2/10], Step [101/157], Loss: 0.0007\n",
            "Epoch 2: Average Loss: 0.0026, Accuracy: 1.0000\n",
            "Epoch [3/10], Step [1/157], Loss: 0.0011\n",
            "Epoch [3/10], Step [101/157], Loss: 0.0003\n",
            "Epoch 3: Average Loss: 0.0004, Accuracy: 1.0000\n",
            "Epoch [4/10], Step [1/157], Loss: 0.0001\n",
            "Epoch [4/10], Step [101/157], Loss: 0.0025\n",
            "Epoch 4: Average Loss: 0.0004, Accuracy: 1.0000\n",
            "Epoch [5/10], Step [1/157], Loss: 0.0001\n",
            "Epoch [5/10], Step [101/157], Loss: 0.2579\n",
            "Epoch 5: Average Loss: 0.0184, Accuracy: 0.9910\n",
            "Epoch [6/10], Step [1/157], Loss: 0.0101\n",
            "Epoch [6/10], Step [101/157], Loss: 0.0054\n",
            "Epoch 6: Average Loss: 0.0001, Accuracy: 1.0000\n",
            "Epoch [7/10], Step [1/157], Loss: 0.0003\n",
            "Epoch [7/10], Step [101/157], Loss: 0.0001\n",
            "Epoch 7: Average Loss: 0.0001, Accuracy: 1.0000\n",
            "Epoch [8/10], Step [1/157], Loss: 0.0001\n",
            "Epoch [8/10], Step [101/157], Loss: 0.0000\n",
            "Epoch 8: Average Loss: 0.0000, Accuracy: 1.0000\n",
            "Epoch [9/10], Step [1/157], Loss: 0.0001\n",
            "Epoch [9/10], Step [101/157], Loss: 0.0000\n",
            "Epoch 9: Average Loss: 0.0000, Accuracy: 1.0000\n",
            "Epoch [10/10], Step [1/157], Loss: 0.0000\n",
            "Epoch [10/10], Step [101/157], Loss: 0.0000\n",
            "Epoch 10: Average Loss: 0.0000, Accuracy: 1.0000\n"
          ]
        }
      ],
      "source": [
        "import torch\n",
        "import torch.nn as nn\n",
        "import torch.optim as optim\n",
        "from torch.utils.data import DataLoader, TensorDataset\n",
        "\n",
        "device = torch.device(\"cuda\" if torch.cuda.is_available() else \"cpu\")\n",
        "\n",
        "# Hyperparameters\n",
        "input_channels = 1  # 1 for grayscale, 3 for RGB\n",
        "image_size = 40\n",
        "hidden_size = 512\n",
        "output_size = 229\n",
        "learning_rate = 0.001\n",
        "batch_size = 64\n",
        "num_epochs = 10\n",
        "\n",
        "# Define the CNN model\n",
        "class CNN(nn.Module):\n",
        "    def __init__(self, input_channels, hidden_size, output_size):\n",
        "        super(CNN, self).__init__()\n",
        "\n",
        "        # Convolutional layers\n",
        "        self.conv1 = nn.Conv2d(input_channels, 32, kernel_size=3, stride=1, padding=1)  # (40x40) -> (40x40)\n",
        "        self.pool1 = nn.MaxPool2d(kernel_size=2, stride=2)  # (40x40) -> (20x20)\n",
        "        self.conv2 = nn.Conv2d(32, 64, kernel_size=3, stride=1, padding=1)  # (20x20) -> (20x20)\n",
        "        self.pool2 = nn.MaxPool2d(kernel_size=2, stride=2)  # (20x20) -> (10x10)\n",
        "        self.conv3 = nn.Conv2d(64, 128, kernel_size=3, stride=1, padding=1)  # (20x20) -> (20x20)\n",
        "        self.pool3 = nn.MaxPool2d(kernel_size=2, stride=2)  # (10x10) -> (5x5)\n",
        "\n",
        "        # Fully connected layers\n",
        "        self.fc1 = nn.Linear(32*10*10, hidden_size)  # Flattened size\n",
        "        self.relu = nn.ReLU()\n",
        "        self.fc2 = nn.Linear(hidden_size, output_size)\n",
        "\n",
        "    def forward(self, x):\n",
        "        x = self.pool1(torch.relu(self.conv1(x)))  # Conv1 -> ReLU -> Pool\n",
        "        x = self.pool2(torch.relu(self.conv2(x)))  # Conv2 -> ReLU -> Pool\n",
        "        x = self.pool3(torch.relu(self.conv3(x)))  # Conv3 -> ReLU -> Pool\n",
        "        x = x.view(x.size(0), -1)  # Flatten\n",
        "        x = torch.relu(self.fc1(x))  # Fully connected\n",
        "        x = self.fc2(x)  # Output layer\n",
        "        return x\n",
        "\n",
        "# Initialize model\n",
        "model = CNN(input_channels, hidden_size, output_size).to(device)\n",
        "\n",
        "# Loss and optimizer\n",
        "criterion = nn.CrossEntropyLoss()\n",
        "optimizer = optim.Adam(model.parameters(), lr=learning_rate)\n",
        "\n",
        "# Prepare dataset (reshape to 40x40 for CNN)\n",
        "X_train = torch.stack([torch.tensor(data['input'], dtype=torch.float32).reshape(1, image_size, image_size) for data in train]).to(device)\n",
        "y_train = torch.tensor([data['label'] for data in train], dtype=torch.long).to(device)\n",
        "\n",
        "train_dataset = TensorDataset(X_train, y_train)\n",
        "train_loader = DataLoader(train_dataset, batch_size=batch_size, shuffle=True)\n",
        "\n",
        "X_test = torch.stack([torch.tensor(data['input'], dtype=torch.float32).reshape(1, image_size, image_size) for data in test]).to(device)\n",
        "y_test = torch.tensor([data['label'] for data in test], dtype=torch.long).to(device)\n",
        "\n",
        "# Training loop\n",
        "for epoch in range(num_epochs):\n",
        "    model.train()\n",
        "    for batch_idx, (inputs, targets) in enumerate(train_loader):\n",
        "        outputs = model(inputs)\n",
        "        loss = criterion(outputs, targets)\n",
        "        optimizer.zero_grad()\n",
        "        loss.backward()\n",
        "        optimizer.step()\n",
        "\n",
        "        if batch_idx % 100 == 0:\n",
        "            print(f\"Epoch [{epoch+1}/{num_epochs}], Step [{batch_idx+1}/{len(train_loader)}], Loss: {loss.item():.4f}\")\n",
        "\n",
        "    # Validation\n",
        "    model.eval()\n",
        "    with torch.no_grad():\n",
        "        correct = 0\n",
        "        total = len(test)\n",
        "        sum_loss = 0\n",
        "\n",
        "        for i in range(total):\n",
        "            output = model(X_test[i].unsqueeze(0))  # Add batch dimension\n",
        "            predicted = torch.argmax(output, dim=1).item()\n",
        "\n",
        "            if predicted == y_test[i].item():\n",
        "                correct += 1\n",
        "\n",
        "            sum_loss += criterion(output, y_test[i].unsqueeze(0)).item()\n",
        "\n",
        "        avg_loss = sum_loss / total\n",
        "        accuracy = correct / total\n",
        "\n",
        "        print(f\"Epoch {epoch+1}: Average Loss: {avg_loss:.4f}, Accuracy: {accuracy:.4f}\")"
      ]
    }
  ],
  "metadata": {
    "accelerator": "GPU",
    "colab": {
      "gpuType": "T4",
      "provenance": []
    },
    "kernelspec": {
      "display_name": "Python 3",
      "name": "python3"
    },
    "language_info": {
      "codemirror_mode": {
        "name": "ipython",
        "version": 3
      },
      "file_extension": ".py",
      "mimetype": "text/x-python",
      "name": "python",
      "nbconvert_exporter": "python",
      "pygments_lexer": "ipython3",
      "version": "3.9.21"
    }
  },
  "nbformat": 4,
  "nbformat_minor": 0
}
