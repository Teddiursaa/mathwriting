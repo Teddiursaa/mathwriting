{
  "cells": [
    {
      "cell_type": "markdown",
      "metadata": {
        "id": "0U4DA_YN27aE"
      },
      "source": [
        "# Load dataset"
      ]
    },
    {
      "cell_type": "code",
      "execution_count": null,
      "metadata": {
        "colab": {
          "base_uri": "https://localhost:8080/"
        },
        "collapsed": true,
        "id": "X28_vdiicZOY",
        "outputId": "98c9f660-eb2e-47eb-bd5b-c2c664e506db"
      },
      "outputs": [
        {
          "name": "stderr",
          "output_type": "stream",
          "text": [
            "/users/eleves-b/2024/duc-anh.nguyen/.local/lib/python3.9/site-packages/tqdm/auto.py:21: TqdmWarning: IProgress not found. Please update jupyter and ipywidgets. See https://ipywidgets.readthedocs.io/en/stable/user_install.html\n",
            "  from .autonotebook import tqdm as notebook_tqdm\n"
          ]
        }
      ],
      "source": [
        "# from google.colab import drive\n",
        "import datasets\n",
        "\n",
        "# drive.mount('/content/drive')\n",
        "\n",
        "# !unzip \"/content/drive/MyDrive/AI/datasets/single character/dataset.zip\" -d \"/content\"\n",
        "# data = pd.read_csv(\"/content/drive/MyDrive/AI/datasets/single character/dataset.csv\")\n",
        "# labels = pd.read_csv(\"/content/drive/MyDrive/AI/datasets/single character/labels.csv\")\n",
        "\n",
        "!unzip -qq dataset.zip\n",
        "ds = datasets.load_from_disk('dataset')"
      ]
    },
    {
      "cell_type": "markdown",
      "metadata": {
        "id": "ScBxP6bk3M4E"
      },
      "source": [
        "# Resize images"
      ]
    },
    {
      "cell_type": "code",
      "execution_count": 2,
      "metadata": {
        "id": "NeAs7m2JnCVJ"
      },
      "outputs": [],
      "source": [
        "import skimage.transform as sk\n",
        "import numpy as np\n",
        "\n",
        "new_shape = (40, 40)\n",
        "def scale_input(data):\n",
        "    input, output = data['input'], data['label']\n",
        "    input = sk.resize(np.array(input), new_shape, mode='reflect', anti_aliasing=True)\n",
        "    return {'input': input, 'label': output}\n",
        "\n",
        "train = [scale_input(ds['train'][i]) for i in range(len(ds['train']))]\n",
        "test = [scale_input(ds['test'][i]) for i in range(len(ds['test']))]"
      ]
    },
    {
      "cell_type": "markdown",
      "metadata": {
        "id": "IfglJ7lJjVws"
      },
      "source": [
        "# Train"
      ]
    },
    {
      "cell_type": "code",
      "execution_count": 5,
      "metadata": {
        "colab": {
          "base_uri": "https://localhost:8080/"
        },
        "id": "9MA58OYDjf07",
        "outputId": "5ab6dacf-5ee8-4b51-beee-c1e7ad762161"
      },
      "outputs": [
        {
          "name": "stdout",
          "output_type": "stream",
          "text": [
            "Epoch [1/10], Step [1/101], Loss: 5.4314\n",
            "Epoch [1/10], Step [101/101], Loss: 4.0368\n",
            "Epoch 1: Average Loss: 3.1897, Accuracy: 0.2795\n",
            "Epoch [2/10], Step [1/101], Loss: 2.4197\n",
            "Epoch [2/10], Step [101/101], Loss: 1.6510\n",
            "Epoch 2: Average Loss: 2.1990, Accuracy: 0.4105\n",
            "Epoch [3/10], Step [1/101], Loss: 1.2286\n",
            "Epoch [3/10], Step [101/101], Loss: 4.2433\n",
            "Epoch 3: Average Loss: 1.8043, Accuracy: 0.5066\n",
            "Epoch [4/10], Step [1/101], Loss: 0.9628\n",
            "Epoch [4/10], Step [101/101], Loss: 2.7364\n",
            "Epoch 4: Average Loss: 1.6992, Accuracy: 0.5590\n",
            "Epoch [5/10], Step [1/101], Loss: 0.8819\n",
            "Epoch [5/10], Step [101/101], Loss: 0.1010\n",
            "Epoch 5: Average Loss: 1.6642, Accuracy: 0.5677\n",
            "Epoch [6/10], Step [1/101], Loss: 0.4144\n",
            "Epoch [6/10], Step [101/101], Loss: 0.0826\n",
            "Epoch 6: Average Loss: 1.7418, Accuracy: 0.5895\n",
            "Epoch [7/10], Step [1/101], Loss: 0.1867\n",
            "Epoch [7/10], Step [101/101], Loss: 0.3528\n",
            "Epoch 7: Average Loss: 1.7888, Accuracy: 0.5764\n",
            "Epoch [8/10], Step [1/101], Loss: 0.3620\n",
            "Epoch [8/10], Step [101/101], Loss: 0.0001\n",
            "Epoch 8: Average Loss: 2.0528, Accuracy: 0.5895\n",
            "Epoch [9/10], Step [1/101], Loss: 0.1759\n",
            "Epoch [9/10], Step [101/101], Loss: 0.0007\n",
            "Epoch 9: Average Loss: 2.2429, Accuracy: 0.5677\n",
            "Epoch [10/10], Step [1/101], Loss: 0.1528\n",
            "Epoch [10/10], Step [101/101], Loss: 0.0169\n",
            "Epoch 10: Average Loss: 2.0984, Accuracy: 0.5939\n"
          ]
        }
      ],
      "source": [
        "import torch\n",
        "import torch.nn as nn\n",
        "import torch.optim as optim\n",
        "from torch.utils.data import DataLoader, TensorDataset\n",
        "\n",
        "device = torch.device(\"cuda\" if torch.cuda.is_available() else \"cpu\")\n",
        "\n",
        "# Hyperparameters\n",
        "input_channels = 1  # 1 for grayscale, 3 for RGB\n",
        "image_size = 40\n",
        "hidden_size = 512\n",
        "output_size = 229\n",
        "learning_rate = 0.001\n",
        "batch_size = 64\n",
        "num_epochs = 10\n",
        "\n",
        "# Define the CNN model\n",
        "class CNN(nn.Module):\n",
        "    def __init__(self, input_channels, hidden_size, output_size):\n",
        "        super(CNN, self).__init__()\n",
        "\n",
        "        # Convolutional layers\n",
        "        self.conv1 = nn.Conv2d(input_channels, 32, kernel_size=3, stride=1, padding=1)  # (40x40) -> (40x40)\n",
        "        self.pool1 = nn.MaxPool2d(kernel_size=2, stride=2)  # (40x40) -> (20x20)\n",
        "        self.conv2 = nn.Conv2d(32, 64, kernel_size=3, stride=1, padding=1)  # (20x20) -> (20x20)\n",
        "        self.pool2 = nn.MaxPool2d(kernel_size=2, stride=2)  # (20x20) -> (10x10)\n",
        "        self.conv3 = nn.Conv2d(64, 128, kernel_size=3, stride=1, padding=1)  # (20x20) -> (20x20)\n",
        "        self.pool3 = nn.MaxPool2d(kernel_size=2, stride=2)  # (10x10) -> (5x5)\n",
        "\n",
        "        # Fully connected layers\n",
        "        self.fc1 = nn.Linear(32*10*10, hidden_size)  # Flattened size\n",
        "        self.relu = nn.ReLU()\n",
        "        self.fc2 = nn.Linear(hidden_size, output_size)\n",
        "\n",
        "    def forward(self, x):\n",
        "        x = self.pool1(torch.relu(self.conv1(x)))  # Conv1 -> ReLU -> Pool\n",
        "        x = self.pool2(torch.relu(self.conv2(x)))  # Conv2 -> ReLU -> Pool\n",
        "        x = self.pool3(torch.relu(self.conv3(x)))  # Conv3 -> ReLU -> Pool\n",
        "        x = x.view(x.size(0), -1)  # Flatten\n",
        "        x = torch.relu(self.fc1(x))  # Fully connected\n",
        "        x = self.fc2(x)  # Output layer\n",
        "        return x\n",
        "\n",
        "# Initialize model\n",
        "model = CNN(input_channels, hidden_size, output_size).to(device)\n",
        "\n",
        "# Loss and optimizer\n",
        "criterion = nn.CrossEntropyLoss()\n",
        "optimizer = optim.Adam(model.parameters(), lr=learning_rate)\n",
        "\n",
        "# Prepare dataset (reshape to 40x40 for CNN)\n",
        "X_train = torch.stack([torch.tensor(data['input'], dtype=torch.float32).reshape(1, image_size, image_size) for data in train]).to(device)\n",
        "y_train = torch.tensor([data['label'] for data in train], dtype=torch.long).to(device)\n",
        "\n",
        "train_dataset = TensorDataset(X_train, y_train)\n",
        "train_loader = DataLoader(train_dataset, batch_size=batch_size, shuffle=True)\n",
        "\n",
        "X_test = torch.stack([torch.tensor(data['input'], dtype=torch.float32).reshape(1, image_size, image_size) for data in test]).to(device)\n",
        "y_test = torch.tensor([data['label'] for data in test], dtype=torch.long).to(device)\n",
        "\n",
        "# Training loop\n",
        "for epoch in range(num_epochs):\n",
        "    model.train()\n",
        "    for batch_idx, (inputs, targets) in enumerate(train_loader):\n",
        "        outputs = model(inputs)\n",
        "        loss = criterion(outputs, targets)\n",
        "        optimizer.zero_grad()\n",
        "        loss.backward()\n",
        "        optimizer.step()\n",
        "\n",
        "        if batch_idx % 100 == 0:\n",
        "            print(f\"Epoch [{epoch+1}/{num_epochs}], Step [{batch_idx+1}/{len(train_loader)}], Loss: {loss.item():.4f}\")\n",
        "\n",
        "    # Validation\n",
        "    model.eval()\n",
        "    with torch.no_grad():\n",
        "        correct = 0\n",
        "        total = len(test)\n",
        "        sum_loss = 0\n",
        "\n",
        "        for i in range(total):\n",
        "            output = model(X_test[i].unsqueeze(0))  # Add batch dimension\n",
        "            predicted = torch.argmax(output, dim=1).item()\n",
        "\n",
        "            if predicted == y_test[i].item():\n",
        "                correct += 1\n",
        "\n",
        "            sum_loss += criterion(output, y_test[i].unsqueeze(0)).item()\n",
        "\n",
        "        avg_loss = sum_loss / total\n",
        "        accuracy = correct / total\n",
        "\n",
        "        print(f\"Epoch {epoch+1}: Average Loss: {avg_loss:.4f}, Accuracy: {accuracy:.4f}\")"
      ]
    }
  ],
  "metadata": {
    "accelerator": "GPU",
    "colab": {
      "gpuType": "T4",
      "provenance": []
    },
    "kernelspec": {
      "display_name": "Python 3",
      "name": "python3"
    },
    "language_info": {
      "codemirror_mode": {
        "name": "ipython",
        "version": 3
      },
      "file_extension": ".py",
      "mimetype": "text/x-python",
      "name": "python",
      "nbconvert_exporter": "python",
      "pygments_lexer": "ipython3",
      "version": "3.9.21"
    }
  },
  "nbformat": 4,
  "nbformat_minor": 0
}
